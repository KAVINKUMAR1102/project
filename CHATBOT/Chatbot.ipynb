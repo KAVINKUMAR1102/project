{
 "cells": [
  {
   "cell_type": "code",
   "execution_count": 72,
   "id": "b869e120",
   "metadata": {},
   "outputs": [],
   "source": [
    "import pickle\n",
    "import numpy as np"
   ]
  },
  {
   "cell_type": "code",
   "execution_count": 73,
   "id": "ef1ae763",
   "metadata": {},
   "outputs": [],
   "source": [
    "with open(\"train_qa.txt\", \"rb\") as fp:   # Unpickling\n",
    "    train_data =  pickle.load(fp)"
   ]
  },
  {
   "cell_type": "code",
   "execution_count": 74,
   "id": "bbe976c5",
   "metadata": {},
   "outputs": [],
   "source": [
    "with open(\"test_qa.txt\", \"rb\") as fp:   # Unpickling\n",
    "    test_data =  pickle.load(fp)"
   ]
  },
  {
   "cell_type": "code",
   "execution_count": 75,
   "id": "7eabd846",
   "metadata": {},
   "outputs": [
    {
     "name": "stdout",
     "output_type": "stream",
     "text": [
      "<class 'list'> <class 'list'>\n"
     ]
    }
   ],
   "source": [
    "print(type(test_data),type(train_data))"
   ]
  },
  {
   "cell_type": "code",
   "execution_count": 76,
   "id": "31525ffb",
   "metadata": {},
   "outputs": [
    {
     "name": "stdout",
     "output_type": "stream",
     "text": [
      "1000 10000\n"
     ]
    }
   ],
   "source": [
    "print(len(test_data), len(train_data))"
   ]
  },
  {
   "cell_type": "code",
   "execution_count": 77,
   "id": "3338765f",
   "metadata": {},
   "outputs": [
    {
     "data": {
      "text/plain": [
       "(['Mary',\n",
       "  'moved',\n",
       "  'to',\n",
       "  'the',\n",
       "  'bathroom',\n",
       "  '.',\n",
       "  'Sandra',\n",
       "  'journeyed',\n",
       "  'to',\n",
       "  'the',\n",
       "  'bedroom',\n",
       "  '.'],\n",
       " ['Is', 'Sandra', 'in', 'the', 'hallway', '?'],\n",
       " 'no')"
      ]
     },
     "execution_count": 77,
     "metadata": {},
     "output_type": "execute_result"
    }
   ],
   "source": [
    "train_data[0]"
   ]
  },
  {
   "cell_type": "code",
   "execution_count": 78,
   "id": "163a4a86",
   "metadata": {},
   "outputs": [
    {
     "data": {
      "text/plain": [
       "'Mary moved to the bathroom . Sandra journeyed to the bedroom .'"
      ]
     },
     "execution_count": 78,
     "metadata": {},
     "output_type": "execute_result"
    }
   ],
   "source": [
    "' '.join(train_data[0][0])"
   ]
  },
  {
   "cell_type": "code",
   "execution_count": 79,
   "id": "7e2d1347",
   "metadata": {},
   "outputs": [
    {
     "data": {
      "text/plain": [
       "'Is Sandra in the hallway ?'"
      ]
     },
     "execution_count": 79,
     "metadata": {},
     "output_type": "execute_result"
    }
   ],
   "source": [
    "' '.join(train_data[0][1])"
   ]
  },
  {
   "cell_type": "code",
   "execution_count": 80,
   "id": "9cc31520",
   "metadata": {},
   "outputs": [
    {
     "data": {
      "text/plain": [
       "'no'"
      ]
     },
     "execution_count": 80,
     "metadata": {},
     "output_type": "execute_result"
    }
   ],
   "source": [
    "train_data[0][2]"
   ]
  },
  {
   "cell_type": "markdown",
   "id": "0c984dbc",
   "metadata": {},
   "source": [
    "# Setting up Vocabulary of All Words"
   ]
  },
  {
   "cell_type": "code",
   "execution_count": 81,
   "id": "5f01ce82",
   "metadata": {},
   "outputs": [],
   "source": [
    "vocab = set()"
   ]
  },
  {
   "cell_type": "code",
   "execution_count": 82,
   "id": "6e2e3747",
   "metadata": {},
   "outputs": [],
   "source": [
    "all_data = test_data + train_data"
   ]
  },
  {
   "cell_type": "code",
   "execution_count": 83,
   "id": "92f2a332",
   "metadata": {},
   "outputs": [],
   "source": [
    "for story, question , answer in all_data:\n",
    "    vocab = vocab.union(set(story))\n",
    "    vocab = vocab.union(set(question))"
   ]
  },
  {
   "cell_type": "code",
   "execution_count": 84,
   "id": "da703d18",
   "metadata": {},
   "outputs": [
    {
     "data": {
      "text/plain": [
       "list"
      ]
     },
     "execution_count": 84,
     "metadata": {},
     "output_type": "execute_result"
    }
   ],
   "source": [
    "type(all_data)"
   ]
  },
  {
   "cell_type": "code",
   "execution_count": 85,
   "id": "25e8ef71",
   "metadata": {},
   "outputs": [],
   "source": [
    "vocab.add('no')\n",
    "vocab.add('yes')"
   ]
  },
  {
   "cell_type": "code",
   "execution_count": 86,
   "id": "be1d59da",
   "metadata": {},
   "outputs": [
    {
     "data": {
      "text/plain": [
       "{'.',\n",
       " '?',\n",
       " 'Daniel',\n",
       " 'Is',\n",
       " 'John',\n",
       " 'Mary',\n",
       " 'Sandra',\n",
       " 'apple',\n",
       " 'back',\n",
       " 'bathroom',\n",
       " 'bedroom',\n",
       " 'discarded',\n",
       " 'down',\n",
       " 'dropped',\n",
       " 'football',\n",
       " 'garden',\n",
       " 'got',\n",
       " 'grabbed',\n",
       " 'hallway',\n",
       " 'in',\n",
       " 'journeyed',\n",
       " 'kitchen',\n",
       " 'left',\n",
       " 'milk',\n",
       " 'moved',\n",
       " 'no',\n",
       " 'office',\n",
       " 'picked',\n",
       " 'put',\n",
       " 'the',\n",
       " 'there',\n",
       " 'to',\n",
       " 'took',\n",
       " 'travelled',\n",
       " 'up',\n",
       " 'went',\n",
       " 'yes'}"
      ]
     },
     "execution_count": 86,
     "metadata": {},
     "output_type": "execute_result"
    }
   ],
   "source": [
    "vocab"
   ]
  },
  {
   "cell_type": "code",
   "execution_count": 87,
   "id": "75838f8b",
   "metadata": {},
   "outputs": [
    {
     "data": {
      "text/plain": [
       "38"
      ]
     },
     "execution_count": 87,
     "metadata": {},
     "output_type": "execute_result"
    }
   ],
   "source": [
    "vocab_len = len(vocab) + 1 \n",
    "vocab_len"
   ]
  },
  {
   "cell_type": "code",
   "execution_count": 88,
   "id": "7002b9ff",
   "metadata": {},
   "outputs": [],
   "source": [
    "max_story_len = max([len(data[0]) for data in all_data])"
   ]
  },
  {
   "cell_type": "code",
   "execution_count": 89,
   "id": "ec151bcc",
   "metadata": {},
   "outputs": [
    {
     "data": {
      "text/plain": [
       "156"
      ]
     },
     "execution_count": 89,
     "metadata": {},
     "output_type": "execute_result"
    }
   ],
   "source": [
    "max_story_len"
   ]
  },
  {
   "cell_type": "code",
   "execution_count": 90,
   "id": "a6520049",
   "metadata": {},
   "outputs": [],
   "source": [
    "max_question_len = max([len(data[1]) for data in all_data])"
   ]
  },
  {
   "cell_type": "code",
   "execution_count": 91,
   "id": "6ac8d8c6",
   "metadata": {},
   "outputs": [
    {
     "data": {
      "text/plain": [
       "6"
      ]
     },
     "execution_count": 91,
     "metadata": {},
     "output_type": "execute_result"
    }
   ],
   "source": [
    "max_question_len"
   ]
  },
  {
   "cell_type": "markdown",
   "id": "f22221f0",
   "metadata": {},
   "source": [
    "# Vectorizing the Data"
   ]
  },
  {
   "cell_type": "code",
   "execution_count": 92,
   "id": "c2578553",
   "metadata": {},
   "outputs": [
    {
     "data": {
      "text/plain": [
       "{'.',\n",
       " '?',\n",
       " 'Daniel',\n",
       " 'Is',\n",
       " 'John',\n",
       " 'Mary',\n",
       " 'Sandra',\n",
       " 'apple',\n",
       " 'back',\n",
       " 'bathroom',\n",
       " 'bedroom',\n",
       " 'discarded',\n",
       " 'down',\n",
       " 'dropped',\n",
       " 'football',\n",
       " 'garden',\n",
       " 'got',\n",
       " 'grabbed',\n",
       " 'hallway',\n",
       " 'in',\n",
       " 'journeyed',\n",
       " 'kitchen',\n",
       " 'left',\n",
       " 'milk',\n",
       " 'moved',\n",
       " 'no',\n",
       " 'office',\n",
       " 'picked',\n",
       " 'put',\n",
       " 'the',\n",
       " 'there',\n",
       " 'to',\n",
       " 'took',\n",
       " 'travelled',\n",
       " 'up',\n",
       " 'went',\n",
       " 'yes'}"
      ]
     },
     "execution_count": 92,
     "metadata": {},
     "output_type": "execute_result"
    }
   ],
   "source": [
    "vocab"
   ]
  },
  {
   "cell_type": "code",
   "execution_count": 93,
   "id": "21cff7df",
   "metadata": {},
   "outputs": [],
   "source": [
    "vocab_size = len(vocab) + 1"
   ]
  },
  {
   "cell_type": "code",
   "execution_count": 94,
   "id": "941b2a71",
   "metadata": {
    "scrolled": true
   },
   "outputs": [],
   "source": [
    "from tensorflow import keras\n",
    "from keras_preprocessing.sequence import pad_sequences\n",
    "from keras_preprocessing.text import Tokenizer"
   ]
  },
  {
   "cell_type": "code",
   "execution_count": 95,
   "id": "a76af2c6",
   "metadata": {},
   "outputs": [],
   "source": [
    "tokenizer = Tokenizer(filters=[])\n",
    "tokenizer.fit_on_texts(vocab)"
   ]
  },
  {
   "cell_type": "code",
   "execution_count": 96,
   "id": "aacd33aa",
   "metadata": {},
   "outputs": [
    {
     "data": {
      "text/plain": [
       "{'went': 1,\n",
       " 'daniel': 2,\n",
       " 'journeyed': 3,\n",
       " 'up': 4,\n",
       " 'no': 5,\n",
       " 'travelled': 6,\n",
       " 'grabbed': 7,\n",
       " 'the': 8,\n",
       " 'dropped': 9,\n",
       " 'is': 10,\n",
       " 'down': 11,\n",
       " 'left': 12,\n",
       " 'kitchen': 13,\n",
       " 'got': 14,\n",
       " 'in': 15,\n",
       " 'yes': 16,\n",
       " 'picked': 17,\n",
       " 'to': 18,\n",
       " 'bedroom': 19,\n",
       " 'moved': 20,\n",
       " 'football': 21,\n",
       " 'sandra': 22,\n",
       " 'apple': 23,\n",
       " 'hallway': 24,\n",
       " 'took': 25,\n",
       " 'mary': 26,\n",
       " '.': 27,\n",
       " 'put': 28,\n",
       " 'john': 29,\n",
       " '?': 30,\n",
       " 'office': 31,\n",
       " 'there': 32,\n",
       " 'discarded': 33,\n",
       " 'bathroom': 34,\n",
       " 'back': 35,\n",
       " 'garden': 36,\n",
       " 'milk': 37}"
      ]
     },
     "execution_count": 96,
     "metadata": {},
     "output_type": "execute_result"
    }
   ],
   "source": [
    "tokenizer.word_index"
   ]
  },
  {
   "cell_type": "code",
   "execution_count": 97,
   "id": "493add41",
   "metadata": {},
   "outputs": [],
   "source": [
    "train_story_text = []\n",
    "train_question_text = []\n",
    "train_answers = []\n",
    "\n",
    "for story,question,answer in train_data:\n",
    "    train_story_text.append(story)\n",
    "    train_question_text.append(question)"
   ]
  },
  {
   "cell_type": "code",
   "execution_count": 98,
   "id": "7cb4b751",
   "metadata": {},
   "outputs": [],
   "source": [
    "train_story_seq = tokenizer.texts_to_sequences(train_story_text)"
   ]
  },
  {
   "cell_type": "code",
   "execution_count": 99,
   "id": "d9d32f3b",
   "metadata": {},
   "outputs": [
    {
     "data": {
      "text/plain": [
       "10000"
      ]
     },
     "execution_count": 99,
     "metadata": {},
     "output_type": "execute_result"
    }
   ],
   "source": [
    "len(train_story_text)"
   ]
  },
  {
   "cell_type": "code",
   "execution_count": 100,
   "id": "b8115f0a",
   "metadata": {},
   "outputs": [
    {
     "data": {
      "text/plain": [
       "10000"
      ]
     },
     "execution_count": 100,
     "metadata": {},
     "output_type": "execute_result"
    }
   ],
   "source": [
    "len(train_story_seq)"
   ]
  },
  {
   "cell_type": "markdown",
   "id": "ad75a3f7",
   "metadata": {},
   "source": [
    "# Vectorization Function"
   ]
  },
  {
   "cell_type": "code",
   "execution_count": 101,
   "id": "42315c53",
   "metadata": {},
   "outputs": [],
   "source": [
    "def vectorize_stories(data, word_index=tokenizer.word_index, max_story_len=max_story_len,max_question_len=max_question_len):\n",
    "    '''\n",
    "    INPUT: \n",
    "    \n",
    "    data: consisting of Stories,Queries,and Answers\n",
    "    word_index: word index dictionary from tokenizer\n",
    "    max_story_len: the length of the longest story (used for pad_sequences function)\n",
    "    max_question_len: length of the longest question (used for pad_sequences function)\n",
    "\n",
    "\n",
    "    OUTPUT:\n",
    "    \n",
    "    Vectorizes the stories,questions, and answers into padded sequences. We first loop for every story, query , and\n",
    "    answer in the data. Then we convert the raw words to an word index value. Then we append each set to their appropriate\n",
    "    output list. Then once we have converted the words to numbers, we pad the sequences so they are all of equal length.\n",
    "    \n",
    "    Returns this in the form of a tuple (X,Xq,Y) (padded based on max lengths)\n",
    "    '''\n",
    "    \n",
    "    \n",
    "    # X = STORIES\n",
    "    X = []\n",
    "    # Xq = QUERY/QUESTION\n",
    "    Xq = []\n",
    "    # Y = CORRECT ANSWER\n",
    "    Y = []\n",
    "    \n",
    "    \n",
    "    for story, query, answer in data:\n",
    "        \n",
    "        # Grab the word index for every word in story\n",
    "        x = [word_index[word.lower()] for word in story]\n",
    "        # Grab the word index for every word in query\n",
    "        xq = [word_index[word.lower()] for word in query]\n",
    "        \n",
    "        # Grab the Answers (either Yes/No so we don't need to use list comprehension here)\n",
    "        # Index 0 is reserved so we're going to use + 1\n",
    "        y = np.zeros(len(word_index) + 1)\n",
    "        \n",
    "        # Now that y is all zeros and we know its just Yes/No , we can use numpy logic to create this assignment\n",
    "        #\n",
    "        y[word_index[answer]] = 1\n",
    "        \n",
    "        # Append each set of story,query, and answer to their respective holding lists\n",
    "        X.append(x)\n",
    "        Xq.append(xq)\n",
    "        Y.append(y)\n",
    "        \n",
    "    # Finally, pad the sequences based on their max length so the RNN can be trained on uniformly long sequences.\n",
    "        \n",
    "    # RETURN TUPLE FOR UNPACKING\n",
    "    return (pad_sequences(X, maxlen=max_story_len),pad_sequences(Xq, maxlen=max_question_len), np.array(Y))"
   ]
  },
  {
   "cell_type": "code",
   "execution_count": 102,
   "id": "d4a2518b",
   "metadata": {},
   "outputs": [],
   "source": [
    "inputs_train, queries_train, answers_train = vectorize_stories(train_data)"
   ]
  },
  {
   "cell_type": "code",
   "execution_count": 103,
   "id": "d35f6500",
   "metadata": {},
   "outputs": [],
   "source": [
    "inputs_test, queries_test, answers_test = vectorize_stories(test_data)"
   ]
  },
  {
   "cell_type": "code",
   "execution_count": 104,
   "id": "c3e58b80",
   "metadata": {},
   "outputs": [
    {
     "data": {
      "text/plain": [
       "array([[ 0,  0,  0, ...,  8, 19, 27],\n",
       "       [ 0,  0,  0, ...,  8, 36, 27],\n",
       "       [ 0,  0,  0, ...,  8, 36, 27],\n",
       "       ...,\n",
       "       [ 0,  0,  0, ...,  8, 23, 27],\n",
       "       [ 0,  0,  0, ...,  8, 36, 27],\n",
       "       [ 0,  0,  0, ..., 23, 32, 27]])"
      ]
     },
     "execution_count": 104,
     "metadata": {},
     "output_type": "execute_result"
    }
   ],
   "source": [
    "inputs_test"
   ]
  },
  {
   "cell_type": "code",
   "execution_count": 105,
   "id": "e7a2a44f",
   "metadata": {},
   "outputs": [
    {
     "data": {
      "text/plain": [
       "array([[10, 29, 15,  8, 13, 30],\n",
       "       [10, 29, 15,  8, 13, 30],\n",
       "       [10, 29, 15,  8, 36, 30],\n",
       "       ...,\n",
       "       [10, 26, 15,  8, 19, 30],\n",
       "       [10, 22, 15,  8, 36, 30],\n",
       "       [10, 26, 15,  8, 36, 30]])"
      ]
     },
     "execution_count": 105,
     "metadata": {},
     "output_type": "execute_result"
    }
   ],
   "source": [
    "queries_test"
   ]
  },
  {
   "cell_type": "code",
   "execution_count": 106,
   "id": "553d91af",
   "metadata": {},
   "outputs": [
    {
     "data": {
      "text/plain": [
       "array([[0., 0., 0., ..., 0., 0., 0.],\n",
       "       [0., 0., 0., ..., 0., 0., 0.],\n",
       "       [0., 0., 0., ..., 0., 0., 0.],\n",
       "       ...,\n",
       "       [0., 0., 0., ..., 0., 0., 0.],\n",
       "       [0., 0., 0., ..., 0., 0., 0.],\n",
       "       [0., 0., 0., ..., 0., 0., 0.]])"
      ]
     },
     "execution_count": 106,
     "metadata": {},
     "output_type": "execute_result"
    }
   ],
   "source": [
    "answers_test"
   ]
  },
  {
   "cell_type": "code",
   "execution_count": 107,
   "id": "f98dfa80",
   "metadata": {},
   "outputs": [
    {
     "data": {
      "text/plain": [
       "array([  0.,   0.,   0.,   0.,   0., 503.,   0.,   0.,   0.,   0.,   0.,\n",
       "         0.,   0.,   0.,   0.,   0., 497.,   0.,   0.,   0.,   0.,   0.,\n",
       "         0.,   0.,   0.,   0.,   0.,   0.,   0.,   0.,   0.,   0.,   0.,\n",
       "         0.,   0.,   0.,   0.,   0.])"
      ]
     },
     "execution_count": 107,
     "metadata": {},
     "output_type": "execute_result"
    }
   ],
   "source": [
    "sum(answers_test)"
   ]
  },
  {
   "cell_type": "code",
   "execution_count": 108,
   "id": "8a6ef91a",
   "metadata": {},
   "outputs": [
    {
     "data": {
      "text/plain": [
       "16"
      ]
     },
     "execution_count": 108,
     "metadata": {},
     "output_type": "execute_result"
    }
   ],
   "source": [
    "tokenizer.word_index['yes']"
   ]
  },
  {
   "cell_type": "code",
   "execution_count": 109,
   "id": "94d9abc5",
   "metadata": {},
   "outputs": [
    {
     "data": {
      "text/plain": [
       "5"
      ]
     },
     "execution_count": 109,
     "metadata": {},
     "output_type": "execute_result"
    }
   ],
   "source": [
    "tokenizer.word_index['no']"
   ]
  },
  {
   "cell_type": "markdown",
   "id": "d5862587",
   "metadata": {},
   "source": [
    "# Model creation"
   ]
  },
  {
   "cell_type": "code",
   "execution_count": 110,
   "id": "b3bf2017",
   "metadata": {},
   "outputs": [],
   "source": [
    "from keras.models import Sequential, Model\n",
    "from keras.layers import Embedding\n",
    "from keras.layers import Input, Activation, Dense, Permute, Dropout\n",
    "from keras.layers import add, dot, concatenate\n",
    "from keras.layers import LSTM"
   ]
  },
  {
   "cell_type": "code",
   "execution_count": 111,
   "id": "e41c9837",
   "metadata": {},
   "outputs": [],
   "source": [
    "input_sequence = Input((max_story_len,))\n",
    "question = Input((max_question_len,))"
   ]
  },
  {
   "cell_type": "markdown",
   "id": "1e3b943b",
   "metadata": {},
   "source": [
    "# Encoders"
   ]
  },
  {
   "cell_type": "code",
   "execution_count": 112,
   "id": "0a500e20",
   "metadata": {},
   "outputs": [],
   "source": [
    "input_encoder_m = Sequential()\n",
    "input_encoder_m.add(Embedding(input_dim=vocab_size,output_dim=64))\n",
    "input_encoder_m.add(Dropout(0.3))"
   ]
  },
  {
   "cell_type": "code",
   "execution_count": 113,
   "id": "b2ff1ac6",
   "metadata": {},
   "outputs": [],
   "source": [
    "input_encoder_c = Sequential()\n",
    "input_encoder_c.add(Embedding(input_dim=vocab_size,output_dim=max_question_len))\n",
    "input_encoder_c.add(Dropout(0.3))"
   ]
  },
  {
   "cell_type": "code",
   "execution_count": 114,
   "id": "7667df9c",
   "metadata": {},
   "outputs": [],
   "source": [
    "question_encoder = Sequential()\n",
    "question_encoder.add(Embedding(input_dim=vocab_size,output_dim=64,input_length=max_question_len))\n",
    "question_encoder.add(Dropout(0.3))"
   ]
  },
  {
   "cell_type": "code",
   "execution_count": 115,
   "id": "77f2fad5",
   "metadata": {},
   "outputs": [],
   "source": [
    "input_encoded_m = input_encoder_m(input_sequence)\n",
    "input_encoded_c = input_encoder_c(input_sequence)\n",
    "question_encoded = question_encoder(question)"
   ]
  },
  {
   "cell_type": "code",
   "execution_count": null,
   "id": "7bcc7770",
   "metadata": {},
   "outputs": [],
   "source": []
  },
  {
   "cell_type": "code",
   "execution_count": 116,
   "id": "74d1faa4",
   "metadata": {},
   "outputs": [],
   "source": [
    "match = dot([input_encoded_m, question_encoded], axes=(2, 2))\n",
    "match = Activation('softmax')(match)"
   ]
  },
  {
   "cell_type": "code",
   "execution_count": 117,
   "id": "68f1a5e1",
   "metadata": {},
   "outputs": [],
   "source": [
    "response = add([match, input_encoded_c])  \n",
    "response = Permute((2, 1))(response)  "
   ]
  },
  {
   "cell_type": "code",
   "execution_count": 118,
   "id": "57faa05f",
   "metadata": {},
   "outputs": [],
   "source": [
    "answer = concatenate([response, question_encoded])"
   ]
  },
  {
   "cell_type": "code",
   "execution_count": 119,
   "id": "b9c24d52",
   "metadata": {},
   "outputs": [
    {
     "data": {
      "text/plain": [
       "<KerasTensor: shape=(None, 6, 220) dtype=float32 (created by layer 'concatenate_1')>"
      ]
     },
     "execution_count": 119,
     "metadata": {},
     "output_type": "execute_result"
    }
   ],
   "source": [
    "answer"
   ]
  },
  {
   "cell_type": "code",
   "execution_count": 120,
   "id": "7d7c563e",
   "metadata": {},
   "outputs": [],
   "source": [
    "answer = LSTM(32)(answer)"
   ]
  },
  {
   "cell_type": "code",
   "execution_count": 121,
   "id": "d8ee5db6",
   "metadata": {},
   "outputs": [],
   "source": [
    "answer = Dropout(0.5)(answer)\n",
    "answer = Dense(vocab_size)(answer)  # (samples, vocab_size)"
   ]
  },
  {
   "cell_type": "code",
   "execution_count": 122,
   "id": "6a1ff237",
   "metadata": {},
   "outputs": [],
   "source": [
    "answer = Activation('softmax')(answer)\n",
    "model = Model([input_sequence, question], answer)\n",
    "model.compile(optimizer='rmsprop', loss='categorical_crossentropy',metrics=['accuracy'])"
   ]
  },
  {
   "cell_type": "code",
   "execution_count": 123,
   "id": "f535bf95",
   "metadata": {},
   "outputs": [
    {
     "name": "stdout",
     "output_type": "stream",
     "text": [
      "Model: \"model_1\"\n",
      "__________________________________________________________________________________________________\n",
      " Layer (type)                   Output Shape         Param #     Connected to                     \n",
      "==================================================================================================\n",
      " input_3 (InputLayer)           [(None, 156)]        0           []                               \n",
      "                                                                                                  \n",
      " input_4 (InputLayer)           [(None, 6)]          0           []                               \n",
      "                                                                                                  \n",
      " sequential_3 (Sequential)      (None, None, 64)     2432        ['input_3[0][0]']                \n",
      "                                                                                                  \n",
      " sequential_5 (Sequential)      (None, 6, 64)        2432        ['input_4[0][0]']                \n",
      "                                                                                                  \n",
      " dot_1 (Dot)                    (None, 156, 6)       0           ['sequential_3[0][0]',           \n",
      "                                                                  'sequential_5[0][0]']           \n",
      "                                                                                                  \n",
      " activation_2 (Activation)      (None, 156, 6)       0           ['dot_1[0][0]']                  \n",
      "                                                                                                  \n",
      " sequential_4 (Sequential)      (None, None, 6)      228         ['input_3[0][0]']                \n",
      "                                                                                                  \n",
      " add_1 (Add)                    (None, 156, 6)       0           ['activation_2[0][0]',           \n",
      "                                                                  'sequential_4[0][0]']           \n",
      "                                                                                                  \n",
      " permute_1 (Permute)            (None, 6, 156)       0           ['add_1[0][0]']                  \n",
      "                                                                                                  \n",
      " concatenate_1 (Concatenate)    (None, 6, 220)       0           ['permute_1[0][0]',              \n",
      "                                                                  'sequential_5[0][0]']           \n",
      "                                                                                                  \n",
      " lstm_1 (LSTM)                  (None, 32)           32384       ['concatenate_1[0][0]']          \n",
      "                                                                                                  \n",
      " dropout_7 (Dropout)            (None, 32)           0           ['lstm_1[0][0]']                 \n",
      "                                                                                                  \n",
      " dense_1 (Dense)                (None, 38)           1254        ['dropout_7[0][0]']              \n",
      "                                                                                                  \n",
      " activation_3 (Activation)      (None, 38)           0           ['dense_1[0][0]']                \n",
      "                                                                                                  \n",
      "==================================================================================================\n",
      "Total params: 38,730\n",
      "Trainable params: 38,730\n",
      "Non-trainable params: 0\n",
      "__________________________________________________________________________________________________\n"
     ]
    }
   ],
   "source": [
    "model.summary()"
   ]
  },
  {
   "cell_type": "code",
   "execution_count": 124,
   "id": "685446ba",
   "metadata": {},
   "outputs": [
    {
     "name": "stdout",
     "output_type": "stream",
     "text": [
      "Epoch 1/70\n",
      "625/625 [==============================] - 8s 10ms/step - loss: 0.8071 - accuracy: 0.4984 - val_loss: 0.6934 - val_accuracy: 0.5030\n",
      "Epoch 2/70\n",
      "625/625 [==============================] - 7s 11ms/step - loss: 0.6993 - accuracy: 0.4948 - val_loss: 0.6933 - val_accuracy: 0.5030\n",
      "Epoch 3/70\n",
      "625/625 [==============================] - 7s 11ms/step - loss: 0.6959 - accuracy: 0.5073 - val_loss: 0.6933 - val_accuracy: 0.5030\n",
      "Epoch 4/70\n",
      "625/625 [==============================] - 8s 12ms/step - loss: 0.6960 - accuracy: 0.4965 - val_loss: 0.6957 - val_accuracy: 0.4970\n",
      "Epoch 5/70\n",
      "625/625 [==============================] - 7s 11ms/step - loss: 0.6958 - accuracy: 0.4967 - val_loss: 0.6945 - val_accuracy: 0.4970\n",
      "Epoch 6/70\n",
      "625/625 [==============================] - 6s 9ms/step - loss: 0.6969 - accuracy: 0.4847 - val_loss: 0.6932 - val_accuracy: 0.5030\n",
      "Epoch 7/70\n",
      "625/625 [==============================] - 7s 11ms/step - loss: 0.6953 - accuracy: 0.5044 - val_loss: 0.6976 - val_accuracy: 0.4970\n",
      "Epoch 8/70\n",
      "625/625 [==============================] - 6s 10ms/step - loss: 0.6957 - accuracy: 0.4981 - val_loss: 0.6933 - val_accuracy: 0.5030\n",
      "Epoch 9/70\n",
      "625/625 [==============================] - 6s 10ms/step - loss: 0.6960 - accuracy: 0.4968 - val_loss: 0.6939 - val_accuracy: 0.4970\n",
      "Epoch 10/70\n",
      "625/625 [==============================] - 7s 11ms/step - loss: 0.6959 - accuracy: 0.4906 - val_loss: 0.6937 - val_accuracy: 0.4970\n",
      "Epoch 11/70\n",
      "625/625 [==============================] - 7s 11ms/step - loss: 0.6953 - accuracy: 0.5027 - val_loss: 0.6932 - val_accuracy: 0.5030\n",
      "Epoch 12/70\n",
      "625/625 [==============================] - 8s 12ms/step - loss: 0.6955 - accuracy: 0.4995 - val_loss: 0.6932 - val_accuracy: 0.5030\n",
      "Epoch 13/70\n",
      "625/625 [==============================] - 7s 12ms/step - loss: 0.6954 - accuracy: 0.4945 - val_loss: 0.6941 - val_accuracy: 0.4970\n",
      "Epoch 14/70\n",
      "625/625 [==============================] - 7s 11ms/step - loss: 0.6950 - accuracy: 0.5085 - val_loss: 0.6935 - val_accuracy: 0.4970\n",
      "Epoch 15/70\n",
      "625/625 [==============================] - 7s 12ms/step - loss: 0.6954 - accuracy: 0.4994 - val_loss: 0.6940 - val_accuracy: 0.4970\n",
      "Epoch 16/70\n",
      "625/625 [==============================] - 7s 11ms/step - loss: 0.6957 - accuracy: 0.5015 - val_loss: 0.6936 - val_accuracy: 0.5030\n",
      "Epoch 17/70\n",
      "625/625 [==============================] - 7s 11ms/step - loss: 0.6955 - accuracy: 0.4998 - val_loss: 0.6958 - val_accuracy: 0.5030\n",
      "Epoch 18/70\n",
      "625/625 [==============================] - 7s 11ms/step - loss: 0.6961 - accuracy: 0.4945 - val_loss: 0.6945 - val_accuracy: 0.4970\n",
      "Epoch 19/70\n",
      "625/625 [==============================] - 7s 11ms/step - loss: 0.6953 - accuracy: 0.4980 - val_loss: 0.6940 - val_accuracy: 0.4970\n",
      "Epoch 20/70\n",
      "625/625 [==============================] - 7s 12ms/step - loss: 0.6953 - accuracy: 0.5051 - val_loss: 0.6932 - val_accuracy: 0.5040\n",
      "Epoch 21/70\n",
      "625/625 [==============================] - 7s 12ms/step - loss: 0.6953 - accuracy: 0.5013 - val_loss: 0.6933 - val_accuracy: 0.5030\n",
      "Epoch 22/70\n",
      "625/625 [==============================] - 7s 11ms/step - loss: 0.6944 - accuracy: 0.5080 - val_loss: 0.6973 - val_accuracy: 0.4970\n",
      "Epoch 23/70\n",
      "625/625 [==============================] - 7s 11ms/step - loss: 0.6953 - accuracy: 0.5045 - val_loss: 0.6932 - val_accuracy: 0.5030\n",
      "Epoch 24/70\n",
      "625/625 [==============================] - 7s 12ms/step - loss: 0.6953 - accuracy: 0.4974 - val_loss: 0.6931 - val_accuracy: 0.5030\n",
      "Epoch 25/70\n",
      "625/625 [==============================] - 7s 11ms/step - loss: 0.6953 - accuracy: 0.4977 - val_loss: 0.6952 - val_accuracy: 0.4970\n",
      "Epoch 26/70\n",
      "625/625 [==============================] - 7s 11ms/step - loss: 0.6957 - accuracy: 0.4932 - val_loss: 0.6951 - val_accuracy: 0.5030\n",
      "Epoch 27/70\n",
      "625/625 [==============================] - 7s 11ms/step - loss: 0.6954 - accuracy: 0.5052 - val_loss: 0.6932 - val_accuracy: 0.4940\n",
      "Epoch 28/70\n",
      "625/625 [==============================] - 7s 12ms/step - loss: 0.6953 - accuracy: 0.5013 - val_loss: 0.6935 - val_accuracy: 0.5040\n",
      "Epoch 29/70\n",
      "625/625 [==============================] - 7s 11ms/step - loss: 0.6941 - accuracy: 0.5170 - val_loss: 0.6966 - val_accuracy: 0.4970\n",
      "Epoch 30/70\n",
      "625/625 [==============================] - 7s 12ms/step - loss: 0.6946 - accuracy: 0.5062 - val_loss: 0.6937 - val_accuracy: 0.5060\n",
      "Epoch 31/70\n",
      "625/625 [==============================] - 7s 12ms/step - loss: 0.6935 - accuracy: 0.5195 - val_loss: 0.6948 - val_accuracy: 0.4900\n",
      "Epoch 32/70\n",
      "625/625 [==============================] - 7s 11ms/step - loss: 0.6935 - accuracy: 0.5127 - val_loss: 0.6959 - val_accuracy: 0.4780\n",
      "Epoch 33/70\n",
      "625/625 [==============================] - 8s 12ms/step - loss: 0.6926 - accuracy: 0.5296 - val_loss: 0.6937 - val_accuracy: 0.5180\n",
      "Epoch 34/70\n",
      "625/625 [==============================] - 7s 12ms/step - loss: 0.6896 - accuracy: 0.5293 - val_loss: 0.6914 - val_accuracy: 0.5250\n",
      "Epoch 35/70\n",
      "625/625 [==============================] - 7s 12ms/step - loss: 0.6844 - accuracy: 0.5404 - val_loss: 0.6727 - val_accuracy: 0.5580\n",
      "Epoch 36/70\n",
      "625/625 [==============================] - 7s 12ms/step - loss: 0.6714 - accuracy: 0.5817 - val_loss: 0.6485 - val_accuracy: 0.6400\n",
      "Epoch 37/70\n",
      "625/625 [==============================] - 7s 12ms/step - loss: 0.6477 - accuracy: 0.6145 - val_loss: 0.6193 - val_accuracy: 0.6630\n",
      "Epoch 38/70\n",
      "625/625 [==============================] - 7s 11ms/step - loss: 0.6340 - accuracy: 0.6549 - val_loss: 0.6128 - val_accuracy: 0.6800\n",
      "Epoch 39/70\n",
      "625/625 [==============================] - 7s 12ms/step - loss: 0.6237 - accuracy: 0.6610 - val_loss: 0.5983 - val_accuracy: 0.6930\n",
      "Epoch 40/70\n",
      "625/625 [==============================] - 7s 11ms/step - loss: 0.6119 - accuracy: 0.6782 - val_loss: 0.5867 - val_accuracy: 0.6990\n",
      "Epoch 41/70\n",
      "625/625 [==============================] - 7s 12ms/step - loss: 0.6021 - accuracy: 0.6894 - val_loss: 0.5762 - val_accuracy: 0.7030\n",
      "Epoch 42/70\n",
      "625/625 [==============================] - 7s 11ms/step - loss: 0.5900 - accuracy: 0.6947 - val_loss: 0.5588 - val_accuracy: 0.7190\n",
      "Epoch 43/70\n",
      "625/625 [==============================] - 7s 11ms/step - loss: 0.5719 - accuracy: 0.7115 - val_loss: 0.5432 - val_accuracy: 0.7200\n",
      "Epoch 44/70\n",
      "625/625 [==============================] - 7s 11ms/step - loss: 0.5573 - accuracy: 0.7219 - val_loss: 0.5217 - val_accuracy: 0.7420\n",
      "Epoch 45/70\n",
      "625/625 [==============================] - 7s 11ms/step - loss: 0.5398 - accuracy: 0.7358 - val_loss: 0.5245 - val_accuracy: 0.7340\n",
      "Epoch 46/70\n",
      "625/625 [==============================] - 8s 12ms/step - loss: 0.5318 - accuracy: 0.7422 - val_loss: 0.4957 - val_accuracy: 0.7690\n",
      "Epoch 47/70\n",
      "625/625 [==============================] - 7s 11ms/step - loss: 0.5177 - accuracy: 0.7574 - val_loss: 0.4859 - val_accuracy: 0.7680\n",
      "Epoch 48/70\n",
      "625/625 [==============================] - 5s 8ms/step - loss: 0.4977 - accuracy: 0.7642 - val_loss: 0.4671 - val_accuracy: 0.7820\n",
      "Epoch 49/70\n",
      "625/625 [==============================] - 7s 11ms/step - loss: 0.4795 - accuracy: 0.7747 - val_loss: 0.4660 - val_accuracy: 0.7840\n",
      "Epoch 50/70\n",
      "625/625 [==============================] - 7s 12ms/step - loss: 0.4725 - accuracy: 0.7834 - val_loss: 0.4429 - val_accuracy: 0.7900\n",
      "Epoch 51/70\n",
      "625/625 [==============================] - 7s 11ms/step - loss: 0.4580 - accuracy: 0.7956 - val_loss: 0.4334 - val_accuracy: 0.7980\n",
      "Epoch 52/70\n",
      "625/625 [==============================] - 7s 11ms/step - loss: 0.4516 - accuracy: 0.7973 - val_loss: 0.4244 - val_accuracy: 0.8100\n",
      "Epoch 53/70\n",
      "625/625 [==============================] - 7s 11ms/step - loss: 0.4374 - accuracy: 0.8058 - val_loss: 0.4202 - val_accuracy: 0.8090\n",
      "Epoch 54/70\n",
      "625/625 [==============================] - 7s 11ms/step - loss: 0.4272 - accuracy: 0.8127 - val_loss: 0.4156 - val_accuracy: 0.8230\n",
      "Epoch 55/70\n",
      "625/625 [==============================] - 7s 11ms/step - loss: 0.4154 - accuracy: 0.8173 - val_loss: 0.4024 - val_accuracy: 0.8240\n",
      "Epoch 56/70\n",
      "625/625 [==============================] - 7s 11ms/step - loss: 0.4086 - accuracy: 0.8236 - val_loss: 0.4287 - val_accuracy: 0.8010\n",
      "Epoch 57/70\n",
      "625/625 [==============================] - 7s 11ms/step - loss: 0.3979 - accuracy: 0.8270 - val_loss: 0.4109 - val_accuracy: 0.8100\n"
     ]
    },
    {
     "name": "stdout",
     "output_type": "stream",
     "text": [
      "Epoch 58/70\n",
      "625/625 [==============================] - 8s 12ms/step - loss: 0.3931 - accuracy: 0.8300 - val_loss: 0.4043 - val_accuracy: 0.8180\n",
      "Epoch 59/70\n",
      "625/625 [==============================] - 7s 12ms/step - loss: 0.3864 - accuracy: 0.8369 - val_loss: 0.3922 - val_accuracy: 0.8380\n",
      "Epoch 60/70\n",
      "625/625 [==============================] - 6s 9ms/step - loss: 0.3812 - accuracy: 0.8402 - val_loss: 0.3957 - val_accuracy: 0.8360\n",
      "Epoch 61/70\n",
      "625/625 [==============================] - 6s 9ms/step - loss: 0.3734 - accuracy: 0.8400 - val_loss: 0.4096 - val_accuracy: 0.8190\n",
      "Epoch 62/70\n",
      "625/625 [==============================] - 6s 9ms/step - loss: 0.3676 - accuracy: 0.8443 - val_loss: 0.4071 - val_accuracy: 0.8250\n",
      "Epoch 63/70\n",
      "625/625 [==============================] - 7s 11ms/step - loss: 0.3712 - accuracy: 0.8432 - val_loss: 0.3874 - val_accuracy: 0.8300\n",
      "Epoch 64/70\n",
      "625/625 [==============================] - 8s 12ms/step - loss: 0.3701 - accuracy: 0.8441 - val_loss: 0.4156 - val_accuracy: 0.8200\n",
      "Epoch 65/70\n",
      "625/625 [==============================] - 7s 12ms/step - loss: 0.3634 - accuracy: 0.8467 - val_loss: 0.4196 - val_accuracy: 0.8140\n",
      "Epoch 66/70\n",
      "625/625 [==============================] - 7s 11ms/step - loss: 0.3662 - accuracy: 0.8445 - val_loss: 0.3981 - val_accuracy: 0.8240\n",
      "Epoch 67/70\n",
      "625/625 [==============================] - 7s 12ms/step - loss: 0.3615 - accuracy: 0.8496 - val_loss: 0.4024 - val_accuracy: 0.8200\n",
      "Epoch 68/70\n",
      "625/625 [==============================] - 7s 11ms/step - loss: 0.3620 - accuracy: 0.8452 - val_loss: 0.4035 - val_accuracy: 0.8180\n",
      "Epoch 69/70\n",
      "625/625 [==============================] - 7s 12ms/step - loss: 0.3546 - accuracy: 0.8514 - val_loss: 0.3932 - val_accuracy: 0.8250\n",
      "Epoch 70/70\n",
      "625/625 [==============================] - 7s 12ms/step - loss: 0.3510 - accuracy: 0.8498 - val_loss: 0.3839 - val_accuracy: 0.8260\n"
     ]
    }
   ],
   "source": [
    "# train\n",
    "history = model.fit([inputs_train, queries_train], answers_train,batch_size=16,epochs=70,validation_data=([inputs_test, queries_test], answers_test))"
   ]
  },
  {
   "cell_type": "markdown",
   "id": "e5ed053d",
   "metadata": {},
   "source": [
    "The accuracy of the model can be further increased by training for more epochs. It will random and in my case you'll see that the accuracy has started increasing dramatically after 30 epochs."
   ]
  },
  {
   "cell_type": "markdown",
   "id": "f51bc2f6",
   "metadata": {},
   "source": [
    "# Save the model"
   ]
  },
  {
   "cell_type": "code",
   "execution_count": 125,
   "id": "176eafed",
   "metadata": {},
   "outputs": [],
   "source": [
    "filename = 'chatbot_120_epochs.h5'\n",
    "model.save(filename)"
   ]
  },
  {
   "cell_type": "markdown",
   "id": "2d9f1837",
   "metadata": {},
   "source": [
    "# Evaluate the model"
   ]
  },
  {
   "cell_type": "code",
   "execution_count": 126,
   "id": "d1376183",
   "metadata": {},
   "outputs": [
    {
     "name": "stdout",
     "output_type": "stream",
     "text": [
      "dict_keys(['loss', 'accuracy', 'val_loss', 'val_accuracy'])\n"
     ]
    }
   ],
   "source": [
    "import matplotlib.pyplot as plt\n",
    "%matplotlib inline\n",
    "print(history.history.keys())"
   ]
  },
  {
   "cell_type": "code",
   "execution_count": 127,
   "id": "aaf99a6d",
   "metadata": {},
   "outputs": [
    {
     "data": {
      "image/png": "[encoded data removed]",
      "text/plain": [
       "<Figure size 640x480 with 1 Axes>"
      ]
     },
     "metadata": {},
     "output_type": "display_data"
    }
   ],
   "source": [
    "# summarize history for accuracy\n",
    "plt.plot(history.history['accuracy'])\n",
    "plt.plot(history.history['val_accuracy'])\n",
    "plt.title('model accuracy')\n",
    "plt.ylabel('accuracy')\n",
    "plt.xlabel('epoch')\n",
    "plt.grid()\n",
    "plt.legend(['train', 'test'], loc='upper left')\n",
    "plt.show()"
   ]
  },
  {
   "cell_type": "code",
   "execution_count": 128,
   "id": "c56f2e0c",
   "metadata": {},
   "outputs": [
    {
     "data": {
      "image/png": "[encoded data removed]",
      "text/plain": [
       "<Figure size 640x480 with 1 Axes>"
      ]
     },
     "metadata": {},
     "output_type": "display_data"
    }
   ],
   "source": [
    "# summarize history for loss\n",
    "plt.plot(history.history['loss'])\n",
    "plt.plot(history.history['val_loss'])\n",
    "plt.title('model loss')\n",
    "plt.ylabel('loss')\n",
    "plt.xlabel('epoch')\n",
    "plt.grid()\n",
    "plt.legend(['train', 'test'], loc='upper left')\n",
    "plt.show()"
   ]
  },
  {
   "cell_type": "code",
   "execution_count": 129,
   "id": "baee44e2",
   "metadata": {},
   "outputs": [
    {
     "name": "stdout",
     "output_type": "stream",
     "text": [
      "32/32 [==============================] - 1s 5ms/step\n"
     ]
    }
   ],
   "source": [
    "model.load_weights(filename)\n",
    "pred_results = model.predict(([inputs_test, queries_test]))"
   ]
  },
  {
   "cell_type": "code",
   "execution_count": 130,
   "id": "d88e4113",
   "metadata": {},
   "outputs": [
    {
     "data": {
      "text/plain": [
       "['Mary',\n",
       " 'got',\n",
       " 'the',\n",
       " 'milk',\n",
       " 'there',\n",
       " '.',\n",
       " 'John',\n",
       " 'moved',\n",
       " 'to',\n",
       " 'the',\n",
       " 'bedroom',\n",
       " '.']"
      ]
     },
     "execution_count": 130,
     "metadata": {},
     "output_type": "execute_result"
    }
   ],
   "source": [
    "test_data[0][0]"
   ]
  },
  {
   "cell_type": "code",
   "execution_count": 131,
   "id": "4e9ef17c",
   "metadata": {},
   "outputs": [
    {
     "name": "stdout",
     "output_type": "stream",
     "text": [
      "Mary got the milk there . John moved to the bedroom .\n"
     ]
    }
   ],
   "source": [
    "story =' '.join(word for word in test_data[0][0])\n",
    "print(story)"
   ]
  },
  {
   "cell_type": "code",
   "execution_count": 132,
   "id": "1701ad5d",
   "metadata": {},
   "outputs": [
    {
     "name": "stdout",
     "output_type": "stream",
     "text": [
      "Is John in the kitchen ?\n"
     ]
    }
   ],
   "source": [
    "query = ' '.join(word for word in test_data[0][1])\n",
    "print(query)"
   ]
  },
  {
   "cell_type": "code",
   "execution_count": 133,
   "id": "854e5302",
   "metadata": {},
   "outputs": [
    {
     "name": "stdout",
     "output_type": "stream",
     "text": [
      "True Test Answer from Data is: no\n"
     ]
    }
   ],
   "source": [
    "print(\"True Test Answer from Data is:\",test_data[0][2])"
   ]
  },
  {
   "cell_type": "code",
   "execution_count": 134,
   "id": "da0be14a",
   "metadata": {},
   "outputs": [
    {
     "name": "stdout",
     "output_type": "stream",
     "text": [
      "Predicted answer is:  no\n",
      "Probability of certainty was:  0.99746144\n"
     ]
    }
   ],
   "source": [
    "val_max = np.argmax(pred_results[0])\n",
    "\n",
    "for key, val in tokenizer.word_index.items():\n",
    "    if val == val_max:\n",
    "        k = key\n",
    "\n",
    "print(\"Predicted answer is: \", k)\n",
    "print(\"Probability of certainty was: \", pred_results[0][val_max])"
   ]
  },
  {
   "cell_type": "markdown",
   "id": "5efd79a2",
   "metadata": {},
   "source": [
    "# Writing our own dialogs & questions(stories)"
   ]
  },
  {
   "cell_type": "code",
   "execution_count": 135,
   "id": "6f4c62c9",
   "metadata": {},
   "outputs": [
    {
     "data": {
      "text/plain": [
       "{'.',\n",
       " '?',\n",
       " 'Daniel',\n",
       " 'Is',\n",
       " 'John',\n",
       " 'Mary',\n",
       " 'Sandra',\n",
       " 'apple',\n",
       " 'back',\n",
       " 'bathroom',\n",
       " 'bedroom',\n",
       " 'discarded',\n",
       " 'down',\n",
       " 'dropped',\n",
       " 'football',\n",
       " 'garden',\n",
       " 'got',\n",
       " 'grabbed',\n",
       " 'hallway',\n",
       " 'in',\n",
       " 'journeyed',\n",
       " 'kitchen',\n",
       " 'left',\n",
       " 'milk',\n",
       " 'moved',\n",
       " 'no',\n",
       " 'office',\n",
       " 'picked',\n",
       " 'put',\n",
       " 'the',\n",
       " 'there',\n",
       " 'to',\n",
       " 'took',\n",
       " 'travelled',\n",
       " 'up',\n",
       " 'went',\n",
       " 'yes'}"
      ]
     },
     "execution_count": 135,
     "metadata": {},
     "output_type": "execute_result"
    }
   ],
   "source": [
    "vocab"
   ]
  },
  {
   "cell_type": "code",
   "execution_count": 136,
   "id": "8ef1ed6e",
   "metadata": {},
   "outputs": [
    {
     "data": {
      "text/plain": [
       "['John',\n",
       " 'left',\n",
       " 'the',\n",
       " 'kitchen',\n",
       " '.',\n",
       " 'Sandra',\n",
       " 'dropped',\n",
       " 'the',\n",
       " 'football',\n",
       " 'in',\n",
       " 'the',\n",
       " 'garden',\n",
       " '.']"
      ]
     },
     "execution_count": 136,
     "metadata": {},
     "output_type": "execute_result"
    }
   ],
   "source": [
    "my_story = \"John left the kitchen . Sandra dropped the football in the garden .\"\n",
    "my_story.split()"
   ]
  },
  {
   "cell_type": "code",
   "execution_count": 137,
   "id": "e80a0654",
   "metadata": {},
   "outputs": [],
   "source": [
    "my_question = \"Is the football in the garden ?\""
   ]
  },
  {
   "cell_type": "code",
   "execution_count": 138,
   "id": "a1679c52",
   "metadata": {},
   "outputs": [
    {
     "data": {
      "text/plain": [
       "['Is', 'the', 'football', 'in', 'the', 'garden', '?']"
      ]
     },
     "execution_count": 138,
     "metadata": {},
     "output_type": "execute_result"
    }
   ],
   "source": [
    "my_question.split()"
   ]
  },
  {
   "cell_type": "code",
   "execution_count": 139,
   "id": "3354c4a2",
   "metadata": {},
   "outputs": [],
   "source": [
    "mydata = [(my_story.split(),my_question.split(),'yes')]"
   ]
  },
  {
   "cell_type": "code",
   "execution_count": 140,
   "id": "5a24e066",
   "metadata": {},
   "outputs": [],
   "source": [
    "my_story,my_ques,my_ans = vectorize_stories(mydata)"
   ]
  },
  {
   "cell_type": "code",
   "execution_count": 141,
   "id": "00b2a487",
   "metadata": {},
   "outputs": [
    {
     "name": "stdout",
     "output_type": "stream",
     "text": [
      "1/1 [==============================] - 0s 30ms/step\n"
     ]
    }
   ],
   "source": [
    "pred_results = model.predict(([ my_story, my_ques]))"
   ]
  },
  {
   "cell_type": "code",
   "execution_count": 142,
   "id": "f22fbd71",
   "metadata": {},
   "outputs": [
    {
     "name": "stdout",
     "output_type": "stream",
     "text": [
      "Predicted answer is:  yes\n",
      "Probability of certainty was:  0.9508801\n"
     ]
    }
   ],
   "source": [
    "\n",
    "val_max = np.argmax(pred_results[0])\n",
    "\n",
    "for key, val in tokenizer.word_index.items():\n",
    "    if val == val_max:\n",
    "        k = key\n",
    "\n",
    "print(\"Predicted answer is: \", k)\n",
    "print(\"Probability of certainty was: \", pred_results[0][val_max])"
   ]
  }
 ],
 "metadata": {
  "kernelspec": {
   "display_name": "Python 3 (ipykernel)",
   "language": "python",
   "name": "python3"
  },
  "language_info": {
   "codemirror_mode": {
    "name": "ipython",
    "version": 3
   },
   "file_extension": ".py",
   "mimetype": "text/x-python",
   "name": "python",
   "nbconvert_exporter": "python",
   "pygments_lexer": "ipython3",
   "version": "3.10.7"
  }
 },
 "nbformat": 4,
 "nbformat_minor": 5
}
