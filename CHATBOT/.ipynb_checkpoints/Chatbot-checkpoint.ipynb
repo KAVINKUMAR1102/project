{
 "cells": [
  {
   "cell_type": "code",
   "execution_count": 1,
   "id": "b869e120",
   "metadata": {},
   "outputs": [],
   "source": [
    "import pickle\n",
    "import numpy as np"
   ]
  },
  {
   "cell_type": "code",
   "execution_count": 2,
   "id": "ef1ae763",
   "metadata": {},
   "outputs": [],
   "source": [
    "with open(\"train_qa.txt\", \"rb\") as fp:   # Unpickling\n",
    "    train_data =  pickle.load(fp)"
   ]
  },
  {
   "cell_type": "code",
   "execution_count": 3,
   "id": "bbe976c5",
   "metadata": {},
   "outputs": [],
   "source": [
    "with open(\"test_qa.txt\", \"rb\") as fp:   # Unpickling\n",
    "    test_data =  pickle.load(fp)"
   ]
  },
  {
   "cell_type": "code",
   "execution_count": 4,
   "id": "7eabd846",
   "metadata": {},
   "outputs": [
    {
     "name": "stdout",
     "output_type": "stream",
     "text": [
      "<class 'list'> <class 'list'>\n"
     ]
    }
   ],
   "source": [
    "print(type(test_data),type(train_data))"
   ]
  },
  {
   "cell_type": "code",
   "execution_count": 5,
   "id": "31525ffb",
   "metadata": {},
   "outputs": [
    {
     "name": "stdout",
     "output_type": "stream",
     "text": [
      "1000 10000\n"
     ]
    }
   ],
   "source": [
    "print(len(test_data), len(train_data))"
   ]
  },
  {
   "cell_type": "code",
   "execution_count": 6,
   "id": "3338765f",
   "metadata": {},
   "outputs": [
    {
     "data": {
      "text/plain": [
       "(['Mary',\n",
       "  'moved',\n",
       "  'to',\n",
       "  'the',\n",
       "  'bathroom',\n",
       "  '.',\n",
       "  'Sandra',\n",
       "  'journeyed',\n",
       "  'to',\n",
       "  'the',\n",
       "  'bedroom',\n",
       "  '.'],\n",
       " ['Is', 'Sandra', 'in', 'the', 'hallway', '?'],\n",
       " 'no')"
      ]
     },
     "execution_count": 6,
     "metadata": {},
     "output_type": "execute_result"
    }
   ],
   "source": [
    "train_data[0]"
   ]
  },
  {
   "cell_type": "code",
   "execution_count": 7,
   "id": "163a4a86",
   "metadata": {},
   "outputs": [
    {
     "data": {
      "text/plain": [
       "'Mary moved to the bathroom . Sandra journeyed to the bedroom .'"
      ]
     },
     "execution_count": 7,
     "metadata": {},
     "output_type": "execute_result"
    }
   ],
   "source": [
    "' '.join(train_data[0][0])"
   ]
  },
  {
   "cell_type": "code",
   "execution_count": 8,
   "id": "7e2d1347",
   "metadata": {},
   "outputs": [
    {
     "data": {
      "text/plain": [
       "'Is Sandra in the hallway ?'"
      ]
     },
     "execution_count": 8,
     "metadata": {},
     "output_type": "execute_result"
    }
   ],
   "source": [
    "' '.join(train_data[0][1])"
   ]
  },
  {
   "cell_type": "code",
   "execution_count": 9,
   "id": "9cc31520",
   "metadata": {},
   "outputs": [
    {
     "data": {
      "text/plain": [
       "'no'"
      ]
     },
     "execution_count": 9,
     "metadata": {},
     "output_type": "execute_result"
    }
   ],
   "source": [
    "train_data[0][2]"
   ]
  },
  {
   "cell_type": "markdown",
   "id": "a96b9a11",
   "metadata": {},
   "source": [
    "# Setting up Vocabulary of All Words"
   ]
  },
  {
   "cell_type": "code",
   "execution_count": 10,
   "id": "5f01ce82",
   "metadata": {},
   "outputs": [],
   "source": [
    "vocab = set()"
   ]
  },
  {
   "cell_type": "code",
   "execution_count": 11,
   "id": "6e2e3747",
   "metadata": {},
   "outputs": [],
   "source": [
    "all_data = test_data + train_data"
   ]
  },
  {
   "cell_type": "code",
   "execution_count": 12,
   "id": "92f2a332",
   "metadata": {},
   "outputs": [],
   "source": [
    "for story, question , answer in all_data:\n",
    "    vocab = vocab.union(set(story))\n",
    "    vocab = vocab.union(set(question))"
   ]
  },
  {
   "cell_type": "code",
   "execution_count": 13,
   "id": "da703d18",
   "metadata": {},
   "outputs": [
    {
     "data": {
      "text/plain": [
       "list"
      ]
     },
     "execution_count": 13,
     "metadata": {},
     "output_type": "execute_result"
    }
   ],
   "source": [
    "type(all_data)"
   ]
  },
  {
   "cell_type": "code",
   "execution_count": 14,
   "id": "25e8ef71",
   "metadata": {},
   "outputs": [],
   "source": [
    "vocab.add('no')\n",
    "vocab.add('yes')"
   ]
  },
  {
   "cell_type": "code",
   "execution_count": 15,
   "id": "be1d59da",
   "metadata": {},
   "outputs": [
    {
     "data": {
      "text/plain": [
       "{'.',\n",
       " '?',\n",
       " 'Daniel',\n",
       " 'Is',\n",
       " 'John',\n",
       " 'Mary',\n",
       " 'Sandra',\n",
       " 'apple',\n",
       " 'back',\n",
       " 'bathroom',\n",
       " 'bedroom',\n",
       " 'discarded',\n",
       " 'down',\n",
       " 'dropped',\n",
       " 'football',\n",
       " 'garden',\n",
       " 'got',\n",
       " 'grabbed',\n",
       " 'hallway',\n",
       " 'in',\n",
       " 'journeyed',\n",
       " 'kitchen',\n",
       " 'left',\n",
       " 'milk',\n",
       " 'moved',\n",
       " 'no',\n",
       " 'office',\n",
       " 'picked',\n",
       " 'put',\n",
       " 'the',\n",
       " 'there',\n",
       " 'to',\n",
       " 'took',\n",
       " 'travelled',\n",
       " 'up',\n",
       " 'went',\n",
       " 'yes'}"
      ]
     },
     "execution_count": 15,
     "metadata": {},
     "output_type": "execute_result"
    }
   ],
   "source": [
    "vocab"
   ]
  },
  {
   "cell_type": "code",
   "execution_count": 16,
   "id": "75838f8b",
   "metadata": {},
   "outputs": [
    {
     "data": {
      "text/plain": [
       "38"
      ]
     },
     "execution_count": 16,
     "metadata": {},
     "output_type": "execute_result"
    }
   ],
   "source": [
    "vocab_len = len(vocab) + 1 \n",
    "vocab_len"
   ]
  },
  {
   "cell_type": "code",
   "execution_count": 17,
   "id": "7002b9ff",
   "metadata": {},
   "outputs": [],
   "source": [
    "max_story_len = max([len(data[0]) for data in all_data])"
   ]
  },
  {
   "cell_type": "code",
   "execution_count": 18,
   "id": "ec151bcc",
   "metadata": {},
   "outputs": [
    {
     "data": {
      "text/plain": [
       "156"
      ]
     },
     "execution_count": 18,
     "metadata": {},
     "output_type": "execute_result"
    }
   ],
   "source": [
    "max_story_len"
   ]
  },
  {
   "cell_type": "code",
   "execution_count": 19,
   "id": "a6520049",
   "metadata": {},
   "outputs": [],
   "source": [
    "max_question_len = max([len(data[1]) for data in all_data])"
   ]
  },
  {
   "cell_type": "code",
   "execution_count": 20,
   "id": "6ac8d8c6",
   "metadata": {},
   "outputs": [
    {
     "data": {
      "text/plain": [
       "6"
      ]
     },
     "execution_count": 20,
     "metadata": {},
     "output_type": "execute_result"
    }
   ],
   "source": [
    "max_question_len"
   ]
  },
  {
   "cell_type": "markdown",
   "id": "36a51c8c",
   "metadata": {},
   "source": [
    "# Vectorizing the Data"
   ]
  },
  {
   "cell_type": "code",
   "execution_count": 21,
   "id": "c2578553",
   "metadata": {},
   "outputs": [
    {
     "data": {
      "text/plain": [
       "{'.',\n",
       " '?',\n",
       " 'Daniel',\n",
       " 'Is',\n",
       " 'John',\n",
       " 'Mary',\n",
       " 'Sandra',\n",
       " 'apple',\n",
       " 'back',\n",
       " 'bathroom',\n",
       " 'bedroom',\n",
       " 'discarded',\n",
       " 'down',\n",
       " 'dropped',\n",
       " 'football',\n",
       " 'garden',\n",
       " 'got',\n",
       " 'grabbed',\n",
       " 'hallway',\n",
       " 'in',\n",
       " 'journeyed',\n",
       " 'kitchen',\n",
       " 'left',\n",
       " 'milk',\n",
       " 'moved',\n",
       " 'no',\n",
       " 'office',\n",
       " 'picked',\n",
       " 'put',\n",
       " 'the',\n",
       " 'there',\n",
       " 'to',\n",
       " 'took',\n",
       " 'travelled',\n",
       " 'up',\n",
       " 'went',\n",
       " 'yes'}"
      ]
     },
     "execution_count": 21,
     "metadata": {},
     "output_type": "execute_result"
    }
   ],
   "source": [
    "vocab"
   ]
  },
  {
   "cell_type": "code",
   "execution_count": 22,
   "id": "21cff7df",
   "metadata": {},
   "outputs": [],
   "source": [
    "vocab_size = len(vocab) + 1"
   ]
  },
  {
   "cell_type": "code",
   "execution_count": 23,
   "id": "941b2a71",
   "metadata": {
    "scrolled": true
   },
   "outputs": [],
   "source": [
    "from tensorflow import keras\n",
    "from keras_preprocessing.sequence import pad_sequences\n",
    "from keras_preprocessing.text import Tokenizer"
   ]
  },
  {
   "cell_type": "code",
   "execution_count": 24,
   "id": "a76af2c6",
   "metadata": {},
   "outputs": [],
   "source": [
    "tokenizer = Tokenizer(filters=[])\n",
    "tokenizer.fit_on_texts(vocab)"
   ]
  },
  {
   "cell_type": "code",
   "execution_count": 25,
   "id": "aacd33aa",
   "metadata": {},
   "outputs": [
    {
     "data": {
      "text/plain": [
       "{'went': 1,\n",
       " 'daniel': 2,\n",
       " 'journeyed': 3,\n",
       " 'up': 4,\n",
       " 'no': 5,\n",
       " 'travelled': 6,\n",
       " 'grabbed': 7,\n",
       " 'the': 8,\n",
       " 'dropped': 9,\n",
       " 'is': 10,\n",
       " 'down': 11,\n",
       " 'left': 12,\n",
       " 'kitchen': 13,\n",
       " 'got': 14,\n",
       " 'in': 15,\n",
       " 'yes': 16,\n",
       " 'picked': 17,\n",
       " 'to': 18,\n",
       " 'bedroom': 19,\n",
       " 'moved': 20,\n",
       " 'football': 21,\n",
       " 'sandra': 22,\n",
       " 'apple': 23,\n",
       " 'hallway': 24,\n",
       " 'took': 25,\n",
       " 'mary': 26,\n",
       " '.': 27,\n",
       " 'put': 28,\n",
       " 'john': 29,\n",
       " '?': 30,\n",
       " 'office': 31,\n",
       " 'there': 32,\n",
       " 'discarded': 33,\n",
       " 'bathroom': 34,\n",
       " 'back': 35,\n",
       " 'garden': 36,\n",
       " 'milk': 37}"
      ]
     },
     "execution_count": 25,
     "metadata": {},
     "output_type": "execute_result"
    }
   ],
   "source": [
    "tokenizer.word_index"
   ]
  },
  {
   "cell_type": "code",
   "execution_count": 26,
   "id": "493add41",
   "metadata": {},
   "outputs": [],
   "source": [
    "train_story_text = []\n",
    "train_question_text = []\n",
    "train_answers = []\n",
    "\n",
    "for story,question,answer in train_data:\n",
    "    train_story_text.append(story)\n",
    "    train_question_text.append(question)"
   ]
  },
  {
   "cell_type": "code",
   "execution_count": 27,
   "id": "7cb4b751",
   "metadata": {},
   "outputs": [],
   "source": [
    "train_story_seq = tokenizer.texts_to_sequences(train_story_text)"
   ]
  },
  {
   "cell_type": "code",
   "execution_count": 28,
   "id": "d9d32f3b",
   "metadata": {},
   "outputs": [
    {
     "data": {
      "text/plain": [
       "10000"
      ]
     },
     "execution_count": 28,
     "metadata": {},
     "output_type": "execute_result"
    }
   ],
   "source": [
    "len(train_story_text)"
   ]
  },
  {
   "cell_type": "code",
   "execution_count": 29,
   "id": "b8115f0a",
   "metadata": {},
   "outputs": [
    {
     "data": {
      "text/plain": [
       "10000"
      ]
     },
     "execution_count": 29,
     "metadata": {},
     "output_type": "execute_result"
    }
   ],
   "source": [
    "len(train_story_seq)"
   ]
  },
  {
   "cell_type": "markdown",
   "id": "ce65698c",
   "metadata": {},
   "source": [
    "# Vectorization Function"
   ]
  },
  {
   "cell_type": "code",
   "execution_count": 30,
   "id": "42315c53",
   "metadata": {},
   "outputs": [],
   "source": [
    "def vectorize_stories(data, word_index=tokenizer.word_index, max_story_len=max_story_len,max_question_len=max_question_len):\n",
    "    '''\n",
    "    INPUT: \n",
    "    \n",
    "    data: consisting of Stories,Queries,and Answers\n",
    "    word_index: word index dictionary from tokenizer\n",
    "    max_story_len: the length of the longest story (used for pad_sequences function)\n",
    "    max_question_len: length of the longest question (used for pad_sequences function)\n",
    "\n",
    "\n",
    "    OUTPUT:\n",
    "    \n",
    "    Vectorizes the stories,questions, and answers into padded sequences. We first loop for every story, query , and\n",
    "    answer in the data. Then we convert the raw words to an word index value. Then we append each set to their appropriate\n",
    "    output list. Then once we have converted the words to numbers, we pad the sequences so they are all of equal length.\n",
    "    \n",
    "    Returns this in the form of a tuple (X,Xq,Y) (padded based on max lengths)\n",
    "    '''\n",
    "    \n",
    "    \n",
    "    # X = STORIES\n",
    "    X = []\n",
    "    # Xq = QUERY/QUESTION\n",
    "    Xq = []\n",
    "    # Y = CORRECT ANSWER\n",
    "    Y = []\n",
    "    \n",
    "    \n",
    "    for story, query, answer in data:\n",
    "        \n",
    "        # Grab the word index for every word in story\n",
    "        x = [word_index[word.lower()] for word in story]\n",
    "        # Grab the word index for every word in query\n",
    "        xq = [word_index[word.lower()] for word in query]\n",
    "        \n",
    "        # Grab the Answers (either Yes/No so we don't need to use list comprehension here)\n",
    "        # Index 0 is reserved so we're going to use + 1\n",
    "        y = np.zeros(len(word_index) + 1)\n",
    "        \n",
    "        # Now that y is all zeros and we know its just Yes/No , we can use numpy logic to create this assignment\n",
    "        #\n",
    "        y[word_index[answer]] = 1\n",
    "        \n",
    "        # Append each set of story,query, and answer to their respective holding lists\n",
    "        X.append(x)\n",
    "        Xq.append(xq)\n",
    "        Y.append(y)\n",
    "        \n",
    "    # Finally, pad the sequences based on their max length so the RNN can be trained on uniformly long sequences.\n",
    "        \n",
    "    # RETURN TUPLE FOR UNPACKING\n",
    "    return (pad_sequences(X, maxlen=max_story_len),pad_sequences(Xq, maxlen=max_question_len), np.array(Y))"
   ]
  },
  {
   "cell_type": "code",
   "execution_count": 31,
   "id": "d4a2518b",
   "metadata": {},
   "outputs": [],
   "source": [
    "inputs_train, queries_train, answers_train = vectorize_stories(train_data)"
   ]
  },
  {
   "cell_type": "code",
   "execution_count": 32,
   "id": "d35f6500",
   "metadata": {},
   "outputs": [],
   "source": [
    "inputs_test, queries_test, answers_test = vectorize_stories(test_data)"
   ]
  },
  {
   "cell_type": "code",
   "execution_count": 33,
   "id": "c3e58b80",
   "metadata": {},
   "outputs": [
    {
     "data": {
      "text/plain": [
       "array([[ 0,  0,  0, ...,  8, 19, 27],\n",
       "       [ 0,  0,  0, ...,  8, 36, 27],\n",
       "       [ 0,  0,  0, ...,  8, 36, 27],\n",
       "       ...,\n",
       "       [ 0,  0,  0, ...,  8, 23, 27],\n",
       "       [ 0,  0,  0, ...,  8, 36, 27],\n",
       "       [ 0,  0,  0, ..., 23, 32, 27]])"
      ]
     },
     "execution_count": 33,
     "metadata": {},
     "output_type": "execute_result"
    }
   ],
   "source": [
    "inputs_test"
   ]
  },
  {
   "cell_type": "code",
   "execution_count": 34,
   "id": "e7a2a44f",
   "metadata": {},
   "outputs": [
    {
     "data": {
      "text/plain": [
       "array([[10, 29, 15,  8, 13, 30],\n",
       "       [10, 29, 15,  8, 13, 30],\n",
       "       [10, 29, 15,  8, 36, 30],\n",
       "       ...,\n",
       "       [10, 26, 15,  8, 19, 30],\n",
       "       [10, 22, 15,  8, 36, 30],\n",
       "       [10, 26, 15,  8, 36, 30]])"
      ]
     },
     "execution_count": 34,
     "metadata": {},
     "output_type": "execute_result"
    }
   ],
   "source": [
    "queries_test"
   ]
  },
  {
   "cell_type": "code",
   "execution_count": 35,
   "id": "553d91af",
   "metadata": {},
   "outputs": [
    {
     "data": {
      "text/plain": [
       "array([[0., 0., 0., ..., 0., 0., 0.],\n",
       "       [0., 0., 0., ..., 0., 0., 0.],\n",
       "       [0., 0., 0., ..., 0., 0., 0.],\n",
       "       ...,\n",
       "       [0., 0., 0., ..., 0., 0., 0.],\n",
       "       [0., 0., 0., ..., 0., 0., 0.],\n",
       "       [0., 0., 0., ..., 0., 0., 0.]])"
      ]
     },
     "execution_count": 35,
     "metadata": {},
     "output_type": "execute_result"
    }
   ],
   "source": [
    "answers_test"
   ]
  },
  {
   "cell_type": "code",
   "execution_count": 36,
   "id": "f98dfa80",
   "metadata": {},
   "outputs": [
    {
     "data": {
      "text/plain": [
       "array([  0.,   0.,   0.,   0.,   0., 503.,   0.,   0.,   0.,   0.,   0.,\n",
       "         0.,   0.,   0.,   0.,   0., 497.,   0.,   0.,   0.,   0.,   0.,\n",
       "         0.,   0.,   0.,   0.,   0.,   0.,   0.,   0.,   0.,   0.,   0.,\n",
       "         0.,   0.,   0.,   0.,   0.])"
      ]
     },
     "execution_count": 36,
     "metadata": {},
     "output_type": "execute_result"
    }
   ],
   "source": [
    "sum(answers_test)"
   ]
  },
  {
   "cell_type": "code",
   "execution_count": 37,
   "id": "8a6ef91a",
   "metadata": {},
   "outputs": [
    {
     "data": {
      "text/plain": [
       "16"
      ]
     },
     "execution_count": 37,
     "metadata": {},
     "output_type": "execute_result"
    }
   ],
   "source": [
    "tokenizer.word_index['yes']"
   ]
  },
  {
   "cell_type": "code",
   "execution_count": 38,
   "id": "94d9abc5",
   "metadata": {},
   "outputs": [
    {
     "data": {
      "text/plain": [
       "5"
      ]
     },
     "execution_count": 38,
     "metadata": {},
     "output_type": "execute_result"
    }
   ],
   "source": [
    "tokenizer.word_index['no']"
   ]
  },
  {
   "cell_type": "markdown",
   "id": "3d079d48",
   "metadata": {},
   "source": [
    "# Model creation"
   ]
  },
  {
   "cell_type": "code",
   "execution_count": 39,
   "id": "b3bf2017",
   "metadata": {},
   "outputs": [],
   "source": [
    "from keras.models import Sequential, Model\n",
    "from keras.layers import Embedding\n",
    "from keras.layers import Input, Activation, Dense, Permute, Dropout\n",
    "from keras.layers import add, dot, concatenate\n",
    "from keras.layers import LSTM"
   ]
  },
  {
   "cell_type": "code",
   "execution_count": 40,
   "id": "e41c9837",
   "metadata": {},
   "outputs": [],
   "source": [
    "input_sequence = Input((max_story_len,))\n",
    "question = Input((max_question_len,))"
   ]
  },
  {
   "cell_type": "markdown",
   "id": "3307a91e",
   "metadata": {},
   "source": [
    "# Encoders"
   ]
  },
  {
   "cell_type": "code",
   "execution_count": 41,
   "id": "0a500e20",
   "metadata": {},
   "outputs": [],
   "source": [
    "input_encoder_m = Sequential()\n",
    "input_encoder_m.add(Embedding(input_dim=vocab_size,output_dim=64))\n",
    "input_encoder_m.add(Dropout(0.3))"
   ]
  },
  {
   "cell_type": "code",
   "execution_count": 42,
   "id": "b2ff1ac6",
   "metadata": {},
   "outputs": [],
   "source": [
    "input_encoder_c = Sequential()\n",
    "input_encoder_c.add(Embedding(input_dim=vocab_size,output_dim=max_question_len))\n",
    "input_encoder_c.add(Dropout(0.3))"
   ]
  },
  {
   "cell_type": "code",
   "execution_count": 43,
   "id": "7667df9c",
   "metadata": {},
   "outputs": [],
   "source": [
    "question_encoder = Sequential()\n",
    "question_encoder.add(Embedding(input_dim=vocab_size,output_dim=64,input_length=max_question_len))\n",
    "question_encoder.add(Dropout(0.3))"
   ]
  },
  {
   "cell_type": "code",
   "execution_count": 44,
   "id": "77f2fad5",
   "metadata": {},
   "outputs": [],
   "source": [
    "input_encoded_m = input_encoder_m(input_sequence)\n",
    "input_encoded_c = input_encoder_c(input_sequence)\n",
    "question_encoded = question_encoder(question)"
   ]
  },
  {
   "cell_type": "code",
   "execution_count": null,
   "id": "50f2e6f4",
   "metadata": {},
   "outputs": [],
   "source": []
  },
  {
   "cell_type": "code",
   "execution_count": 45,
   "id": "74d1faa4",
   "metadata": {},
   "outputs": [],
   "source": [
    "match = dot([input_encoded_m, question_encoded], axes=(2, 2))\n",
    "match = Activation('softmax')(match)"
   ]
  },
  {
   "cell_type": "code",
   "execution_count": 46,
   "id": "68f1a5e1",
   "metadata": {},
   "outputs": [],
   "source": [
    "response = add([match, input_encoded_c])  \n",
    "response = Permute((2, 1))(response)  "
   ]
  },
  {
   "cell_type": "code",
   "execution_count": 47,
   "id": "57faa05f",
   "metadata": {},
   "outputs": [],
   "source": [
    "answer = concatenate([response, question_encoded])"
   ]
  },
  {
   "cell_type": "code",
   "execution_count": 48,
   "id": "b9c24d52",
   "metadata": {},
   "outputs": [
    {
     "data": {
      "text/plain": [
       "<KerasTensor: shape=(None, 6, 220) dtype=float32 (created by layer 'concatenate')>"
      ]
     },
     "execution_count": 48,
     "metadata": {},
     "output_type": "execute_result"
    }
   ],
   "source": [
    "answer"
   ]
  },
  {
   "cell_type": "code",
   "execution_count": 49,
   "id": "7d7c563e",
   "metadata": {},
   "outputs": [],
   "source": [
    "answer = LSTM(32)(answer)"
   ]
  },
  {
   "cell_type": "code",
   "execution_count": 50,
   "id": "d8ee5db6",
   "metadata": {},
   "outputs": [],
   "source": [
    "answer = Dropout(0.5)(answer)\n",
    "answer = Dense(vocab_size)(answer)  # (samples, vocab_size)"
   ]
  },
  {
   "cell_type": "code",
   "execution_count": 51,
   "id": "6a1ff237",
   "metadata": {},
   "outputs": [],
   "source": [
    "answer = Activation('softmax')(answer)\n",
    "model = Model([input_sequence, question], answer)\n",
    "model.compile(optimizer='rmsprop', loss='categorical_crossentropy',metrics=['accuracy'])"
   ]
  },
  {
   "cell_type": "code",
   "execution_count": 52,
   "id": "f535bf95",
   "metadata": {},
   "outputs": [
    {
     "name": "stdout",
     "output_type": "stream",
     "text": [
      "Model: \"model\"\n",
      "__________________________________________________________________________________________________\n",
      " Layer (type)                   Output Shape         Param #     Connected to                     \n",
      "==================================================================================================\n",
      " input_1 (InputLayer)           [(None, 156)]        0           []                               \n",
      "                                                                                                  \n",
      " input_2 (InputLayer)           [(None, 6)]          0           []                               \n",
      "                                                                                                  \n",
      " sequential (Sequential)        (None, None, 64)     2432        ['input_1[0][0]']                \n",
      "                                                                                                  \n",
      " sequential_2 (Sequential)      (None, 6, 64)        2432        ['input_2[0][0]']                \n",
      "                                                                                                  \n",
      " dot (Dot)                      (None, 156, 6)       0           ['sequential[0][0]',             \n",
      "                                                                  'sequential_2[0][0]']           \n",
      "                                                                                                  \n",
      " activation (Activation)        (None, 156, 6)       0           ['dot[0][0]']                    \n",
      "                                                                                                  \n",
      " sequential_1 (Sequential)      (None, None, 6)      228         ['input_1[0][0]']                \n",
      "                                                                                                  \n",
      " add (Add)                      (None, 156, 6)       0           ['activation[0][0]',             \n",
      "                                                                  'sequential_1[0][0]']           \n",
      "                                                                                                  \n",
      " permute (Permute)              (None, 6, 156)       0           ['add[0][0]']                    \n",
      "                                                                                                  \n",
      " concatenate (Concatenate)      (None, 6, 220)       0           ['permute[0][0]',                \n",
      "                                                                  'sequential_2[0][0]']           \n",
      "                                                                                                  \n",
      " lstm (LSTM)                    (None, 32)           32384       ['concatenate[0][0]']            \n",
      "                                                                                                  \n",
      " dropout_3 (Dropout)            (None, 32)           0           ['lstm[0][0]']                   \n",
      "                                                                                                  \n",
      " dense (Dense)                  (None, 38)           1254        ['dropout_3[0][0]']              \n",
      "                                                                                                  \n",
      " activation_1 (Activation)      (None, 38)           0           ['dense[0][0]']                  \n",
      "                                                                                                  \n",
      "==================================================================================================\n",
      "Total params: 38,730\n",
      "Trainable params: 38,730\n",
      "Non-trainable params: 0\n",
      "__________________________________________________________________________________________________\n"
     ]
    }
   ],
   "source": [
    "model.summary()"
   ]
  },
  {
   "cell_type": "code",
   "execution_count": 53,
   "id": "685446ba",
   "metadata": {},
   "outputs": [
    {
     "name": "stdout",
     "output_type": "stream",
     "text": [
      "Epoch 1/64\n",
      "625/625 [==============================] - 17s 16ms/step - loss: 0.8212 - accuracy: 0.5029 - val_loss: 0.6936 - val_accuracy: 0.5030\n",
      "Epoch 2/64\n",
      "625/625 [==============================] - 9s 14ms/step - loss: 0.6990 - accuracy: 0.5023 - val_loss: 0.6935 - val_accuracy: 0.5030\n",
      "Epoch 3/64\n",
      "625/625 [==============================] - 9s 14ms/step - loss: 0.6971 - accuracy: 0.4930 - val_loss: 0.6966 - val_accuracy: 0.4970\n",
      "Epoch 4/64\n",
      "625/625 [==============================] - 9s 14ms/step - loss: 0.6958 - accuracy: 0.4992 - val_loss: 0.6932 - val_accuracy: 0.5030\n",
      "Epoch 5/64\n",
      "625/625 [==============================] - 8s 13ms/step - loss: 0.6957 - accuracy: 0.4980 - val_loss: 0.6937 - val_accuracy: 0.5030\n",
      "Epoch 6/64\n",
      "625/625 [==============================] - 9s 14ms/step - loss: 0.6962 - accuracy: 0.4999 - val_loss: 0.6932 - val_accuracy: 0.4970\n",
      "Epoch 7/64\n",
      "625/625 [==============================] - 9s 14ms/step - loss: 0.6952 - accuracy: 0.5033 - val_loss: 0.7033 - val_accuracy: 0.4970\n",
      "Epoch 8/64\n",
      "625/625 [==============================] - 8s 13ms/step - loss: 0.6963 - accuracy: 0.4930 - val_loss: 0.6931 - val_accuracy: 0.5030\n",
      "Epoch 9/64\n",
      "625/625 [==============================] - 6s 10ms/step - loss: 0.6963 - accuracy: 0.4915 - val_loss: 0.6949 - val_accuracy: 0.5030\n",
      "Epoch 10/64\n",
      "625/625 [==============================] - 8s 12ms/step - loss: 0.6960 - accuracy: 0.4960 - val_loss: 0.6962 - val_accuracy: 0.4970\n",
      "Epoch 11/64\n",
      "625/625 [==============================] - 9s 14ms/step - loss: 0.6958 - accuracy: 0.4985 - val_loss: 0.6948 - val_accuracy: 0.5030\n",
      "Epoch 12/64\n",
      "625/625 [==============================] - 9s 14ms/step - loss: 0.6957 - accuracy: 0.4923 - val_loss: 0.6932 - val_accuracy: 0.5030\n",
      "Epoch 13/64\n",
      "625/625 [==============================] - 8s 13ms/step - loss: 0.6960 - accuracy: 0.4970 - val_loss: 0.6932 - val_accuracy: 0.4960\n",
      "Epoch 14/64\n",
      "625/625 [==============================] - 6s 10ms/step - loss: 0.6961 - accuracy: 0.4946 - val_loss: 0.6934 - val_accuracy: 0.4970\n",
      "Epoch 15/64\n",
      "625/625 [==============================] - 6s 10ms/step - loss: 0.6954 - accuracy: 0.4979 - val_loss: 0.6953 - val_accuracy: 0.4970\n",
      "Epoch 16/64\n",
      "625/625 [==============================] - 7s 11ms/step - loss: 0.6956 - accuracy: 0.5020 - val_loss: 0.6934 - val_accuracy: 0.4970\n",
      "Epoch 17/64\n",
      "625/625 [==============================] - 6s 9ms/step - loss: 0.6953 - accuracy: 0.5033 - val_loss: 0.6933 - val_accuracy: 0.5030\n",
      "Epoch 18/64\n",
      "625/625 [==============================] - 6s 9ms/step - loss: 0.6956 - accuracy: 0.5016 - val_loss: 0.6934 - val_accuracy: 0.4970\n",
      "Epoch 19/64\n",
      "625/625 [==============================] - 7s 12ms/step - loss: 0.6954 - accuracy: 0.4927 - val_loss: 0.6934 - val_accuracy: 0.4970\n",
      "Epoch 20/64\n",
      "625/625 [==============================] - 7s 11ms/step - loss: 0.6955 - accuracy: 0.4991 - val_loss: 0.6932 - val_accuracy: 0.5030\n",
      "Epoch 21/64\n",
      "625/625 [==============================] - 6s 10ms/step - loss: 0.6957 - accuracy: 0.4966 - val_loss: 0.6934 - val_accuracy: 0.5030\n",
      "Epoch 22/64\n",
      "625/625 [==============================] - 5s 8ms/step - loss: 0.6953 - accuracy: 0.4911 - val_loss: 0.6946 - val_accuracy: 0.4970\n",
      "Epoch 23/64\n",
      "625/625 [==============================] - 4s 7ms/step - loss: 0.6956 - accuracy: 0.4978 - val_loss: 0.6942 - val_accuracy: 0.5030\n",
      "Epoch 24/64\n",
      "625/625 [==============================] - 5s 8ms/step - loss: 0.6950 - accuracy: 0.5033 - val_loss: 0.6949 - val_accuracy: 0.5030\n",
      "Epoch 25/64\n",
      "625/625 [==============================] - 7s 11ms/step - loss: 0.6950 - accuracy: 0.5000 - val_loss: 0.6990 - val_accuracy: 0.5030\n",
      "Epoch 26/64\n",
      "625/625 [==============================] - 6s 10ms/step - loss: 0.6939 - accuracy: 0.5119 - val_loss: 0.6944 - val_accuracy: 0.4880\n",
      "Epoch 27/64\n",
      "625/625 [==============================] - 7s 11ms/step - loss: 0.6952 - accuracy: 0.5042 - val_loss: 0.6971 - val_accuracy: 0.4990\n",
      "Epoch 28/64\n",
      "625/625 [==============================] - 5s 9ms/step - loss: 0.6939 - accuracy: 0.5189 - val_loss: 0.6943 - val_accuracy: 0.4900\n",
      "Epoch 29/64\n",
      "625/625 [==============================] - 7s 11ms/step - loss: 0.6939 - accuracy: 0.5087 - val_loss: 0.6953 - val_accuracy: 0.5010\n",
      "Epoch 30/64\n",
      "625/625 [==============================] - 7s 11ms/step - loss: 0.6933 - accuracy: 0.5166 - val_loss: 0.6960 - val_accuracy: 0.5060\n",
      "Epoch 31/64\n",
      "625/625 [==============================] - 7s 11ms/step - loss: 0.6911 - accuracy: 0.5240 - val_loss: 0.6943 - val_accuracy: 0.5050\n",
      "Epoch 32/64\n",
      "625/625 [==============================] - 7s 11ms/step - loss: 0.6867 - accuracy: 0.5380 - val_loss: 0.6884 - val_accuracy: 0.5280\n",
      "Epoch 33/64\n",
      "625/625 [==============================] - 7s 11ms/step - loss: 0.6621 - accuracy: 0.5994 - val_loss: 0.6477 - val_accuracy: 0.6160\n",
      "Epoch 34/64\n",
      "625/625 [==============================] - 7s 11ms/step - loss: 0.6401 - accuracy: 0.6374 - val_loss: 0.6276 - val_accuracy: 0.6580\n",
      "Epoch 35/64\n",
      "625/625 [==============================] - 7s 11ms/step - loss: 0.6309 - accuracy: 0.6491 - val_loss: 0.6173 - val_accuracy: 0.6830\n",
      "Epoch 36/64\n",
      "625/625 [==============================] - 7s 11ms/step - loss: 0.6230 - accuracy: 0.6556 - val_loss: 0.5971 - val_accuracy: 0.6750\n",
      "Epoch 37/64\n",
      "625/625 [==============================] - 7s 11ms/step - loss: 0.6159 - accuracy: 0.6656 - val_loss: 0.5913 - val_accuracy: 0.6840\n",
      "Epoch 38/64\n",
      "625/625 [==============================] - 7s 11ms/step - loss: 0.6035 - accuracy: 0.6739 - val_loss: 0.5846 - val_accuracy: 0.6970\n",
      "Epoch 39/64\n",
      "625/625 [==============================] - 7s 11ms/step - loss: 0.5895 - accuracy: 0.6915 - val_loss: 0.5633 - val_accuracy: 0.7100\n",
      "Epoch 40/64\n",
      "625/625 [==============================] - 6s 9ms/step - loss: 0.5794 - accuracy: 0.7042 - val_loss: 0.5554 - val_accuracy: 0.7260\n",
      "Epoch 41/64\n",
      "625/625 [==============================] - 6s 10ms/step - loss: 0.5710 - accuracy: 0.7037 - val_loss: 0.5459 - val_accuracy: 0.7380\n",
      "Epoch 42/64\n",
      "625/625 [==============================] - 6s 9ms/step - loss: 0.5540 - accuracy: 0.7236 - val_loss: 0.5179 - val_accuracy: 0.7510\n",
      "Epoch 43/64\n",
      "625/625 [==============================] - 6s 9ms/step - loss: 0.5298 - accuracy: 0.7427 - val_loss: 0.5166 - val_accuracy: 0.7490\n",
      "Epoch 44/64\n",
      "625/625 [==============================] - 5s 8ms/step - loss: 0.5136 - accuracy: 0.7601 - val_loss: 0.4760 - val_accuracy: 0.7780\n",
      "Epoch 45/64\n",
      "625/625 [==============================] - 4s 7ms/step - loss: 0.4893 - accuracy: 0.7764 - val_loss: 0.4607 - val_accuracy: 0.7860\n",
      "Epoch 46/64\n",
      "625/625 [==============================] - 7s 11ms/step - loss: 0.4650 - accuracy: 0.7951 - val_loss: 0.4384 - val_accuracy: 0.7960\n",
      "Epoch 47/64\n",
      "625/625 [==============================] - 7s 12ms/step - loss: 0.4427 - accuracy: 0.8069 - val_loss: 0.4183 - val_accuracy: 0.8070\n",
      "Epoch 48/64\n",
      "625/625 [==============================] - 7s 11ms/step - loss: 0.4354 - accuracy: 0.8171 - val_loss: 0.4542 - val_accuracy: 0.7930\n",
      "Epoch 49/64\n",
      "625/625 [==============================] - 7s 11ms/step - loss: 0.4179 - accuracy: 0.8191 - val_loss: 0.3993 - val_accuracy: 0.8280\n",
      "Epoch 50/64\n",
      "625/625 [==============================] - 7s 11ms/step - loss: 0.4040 - accuracy: 0.8259 - val_loss: 0.4352 - val_accuracy: 0.7920\n",
      "Epoch 51/64\n",
      "625/625 [==============================] - 7s 10ms/step - loss: 0.3909 - accuracy: 0.8315 - val_loss: 0.4035 - val_accuracy: 0.8230\n",
      "Epoch 52/64\n",
      "625/625 [==============================] - 5s 7ms/step - loss: 0.3830 - accuracy: 0.8392 - val_loss: 0.3913 - val_accuracy: 0.8170\n",
      "Epoch 53/64\n",
      "625/625 [==============================] - 6s 10ms/step - loss: 0.3683 - accuracy: 0.8454 - val_loss: 0.3892 - val_accuracy: 0.8230\n",
      "Epoch 54/64\n",
      "625/625 [==============================] - 7s 11ms/step - loss: 0.3647 - accuracy: 0.8491 - val_loss: 0.4072 - val_accuracy: 0.8180\n",
      "Epoch 55/64\n",
      "625/625 [==============================] - 7s 11ms/step - loss: 0.3533 - accuracy: 0.8505 - val_loss: 0.3884 - val_accuracy: 0.8270\n",
      "Epoch 56/64\n",
      "625/625 [==============================] - 8s 12ms/step - loss: 0.3522 - accuracy: 0.8519 - val_loss: 0.4218 - val_accuracy: 0.8200\n",
      "Epoch 57/64\n",
      "625/625 [==============================] - 7s 11ms/step - loss: 0.3443 - accuracy: 0.8559 - val_loss: 0.4223 - val_accuracy: 0.8270\n",
      "Epoch 58/64\n"
     ]
    },
    {
     "name": "stdout",
     "output_type": "stream",
     "text": [
      "625/625 [==============================] - 7s 11ms/step - loss: 0.3442 - accuracy: 0.8547 - val_loss: 0.3799 - val_accuracy: 0.8260\n",
      "Epoch 59/64\n",
      "625/625 [==============================] - 7s 12ms/step - loss: 0.3403 - accuracy: 0.8585 - val_loss: 0.3984 - val_accuracy: 0.8230\n",
      "Epoch 60/64\n",
      "625/625 [==============================] - 7s 11ms/step - loss: 0.3311 - accuracy: 0.8611 - val_loss: 0.3824 - val_accuracy: 0.8300\n",
      "Epoch 61/64\n",
      "625/625 [==============================] - 7s 12ms/step - loss: 0.3295 - accuracy: 0.8625 - val_loss: 0.4105 - val_accuracy: 0.8210\n",
      "Epoch 62/64\n",
      "625/625 [==============================] - 7s 11ms/step - loss: 0.3272 - accuracy: 0.8626 - val_loss: 0.3953 - val_accuracy: 0.8180\n",
      "Epoch 63/64\n",
      "625/625 [==============================] - 6s 9ms/step - loss: 0.3234 - accuracy: 0.8659 - val_loss: 0.3752 - val_accuracy: 0.8420\n",
      "Epoch 64/64\n",
      "625/625 [==============================] - 7s 11ms/step - loss: 0.3221 - accuracy: 0.8652 - val_loss: 0.4012 - val_accuracy: 0.8230\n"
     ]
    }
   ],
   "source": [
    "# train\n",
    "history = model.fit([inputs_train, queries_train], answers_train,batch_size=16,epochs=64,validation_data=([inputs_test, queries_test], answers_test))"
   ]
  },
  {
   "cell_type": "markdown",
   "id": "824c304a",
   "metadata": {},
   "source": [
    "# Save the model"
   ]
  },
  {
   "cell_type": "code",
   "execution_count": 54,
   "id": "176eafed",
   "metadata": {},
   "outputs": [],
   "source": [
    "filename = 'chatbot_120_epochs.h5'\n",
    "model.save(filename)"
   ]
  },
  {
   "cell_type": "markdown",
   "id": "89346e80",
   "metadata": {},
   "source": [
    "# Evaluate the model"
   ]
  },
  {
   "cell_type": "code",
   "execution_count": 55,
   "id": "d1376183",
   "metadata": {},
   "outputs": [
    {
     "name": "stdout",
     "output_type": "stream",
     "text": [
      "dict_keys(['loss', 'accuracy', 'val_loss', 'val_accuracy'])\n"
     ]
    }
   ],
   "source": [
    "import matplotlib.pyplot as plt\n",
    "%matplotlib inline\n",
    "print(history.history.keys())"
   ]
  },
  {
   "cell_type": "code",
   "execution_count": 56,
   "id": "aaf99a6d",
   "metadata": {},
   "outputs": [
    {
     "data": {
      "image/png": "[encoded data removed]",
      "text/plain": [
       "<Figure size 640x480 with 1 Axes>"
      ]
     },
     "metadata": {},
     "output_type": "display_data"
    }
   ],
   "source": [
    "# summarize history for accuracy\n",
    "plt.plot(history.history['accuracy'])\n",
    "plt.plot(history.history['val_accuracy'])\n",
    "plt.title('model accuracy')\n",
    "plt.ylabel('accuracy')\n",
    "plt.xlabel('epoch')\n",
    "plt.grid()\n",
    "plt.legend(['train', 'test'], loc='upper left')\n",
    "plt.show()"
   ]
  },
  {
   "cell_type": "code",
   "execution_count": 57,
   "id": "c56f2e0c",
   "metadata": {},
   "outputs": [
    {
     "data": {
      "image/png": "[encoded data removed]",
      "text/plain": [
       "<Figure size 640x480 with 1 Axes>"
      ]
     },
     "metadata": {},
     "output_type": "display_data"
    }
   ],
   "source": [
    "# summarize history for loss\n",
    "plt.plot(history.history['loss'])\n",
    "plt.plot(history.history['val_loss'])\n",
    "plt.title('model loss')\n",
    "plt.ylabel('loss')\n",
    "plt.xlabel('epoch')\n",
    "plt.grid()\n",
    "plt.legend(['train', 'test'], loc='upper left')\n",
    "plt.show()"
   ]
  },
  {
   "cell_type": "code",
   "execution_count": 58,
   "id": "baee44e2",
   "metadata": {},
   "outputs": [
    {
     "name": "stdout",
     "output_type": "stream",
     "text": [
      "32/32 [==============================] - 1s 4ms/step\n"
     ]
    }
   ],
   "source": [
    "model.load_weights(filename)\n",
    "pred_results = model.predict(([inputs_test, queries_test]))"
   ]
  },
  {
   "cell_type": "code",
   "execution_count": 59,
   "id": "d88e4113",
   "metadata": {},
   "outputs": [
    {
     "data": {
      "text/plain": [
       "['Mary',\n",
       " 'got',\n",
       " 'the',\n",
       " 'milk',\n",
       " 'there',\n",
       " '.',\n",
       " 'John',\n",
       " 'moved',\n",
       " 'to',\n",
       " 'the',\n",
       " 'bedroom',\n",
       " '.']"
      ]
     },
     "execution_count": 59,
     "metadata": {},
     "output_type": "execute_result"
    }
   ],
   "source": [
    "test_data[0][0]"
   ]
  },
  {
   "cell_type": "code",
   "execution_count": 60,
   "id": "4e9ef17c",
   "metadata": {},
   "outputs": [
    {
     "name": "stdout",
     "output_type": "stream",
     "text": [
      "Mary got the milk there . John moved to the bedroom .\n"
     ]
    }
   ],
   "source": [
    "story =' '.join(word for word in test_data[0][0])\n",
    "print(story)"
   ]
  },
  {
   "cell_type": "code",
   "execution_count": 61,
   "id": "1701ad5d",
   "metadata": {},
   "outputs": [
    {
     "name": "stdout",
     "output_type": "stream",
     "text": [
      "Is John in the kitchen ?\n"
     ]
    }
   ],
   "source": [
    "query = ' '.join(word for word in test_data[0][1])\n",
    "print(query)"
   ]
  },
  {
   "cell_type": "code",
   "execution_count": 62,
   "id": "854e5302",
   "metadata": {},
   "outputs": [
    {
     "name": "stdout",
     "output_type": "stream",
     "text": [
      "True Test Answer from Data is: no\n"
     ]
    }
   ],
   "source": [
    "print(\"True Test Answer from Data is:\",test_data[0][2])"
   ]
  },
  {
   "cell_type": "code",
   "execution_count": 63,
   "id": "da0be14a",
   "metadata": {},
   "outputs": [
    {
     "name": "stdout",
     "output_type": "stream",
     "text": [
      "Predicted answer is:  no\n",
      "Probability of certainty was:  0.9754716\n"
     ]
    }
   ],
   "source": [
    "val_max = np.argmax(pred_results[0])\n",
    "\n",
    "for key, val in tokenizer.word_index.items():\n",
    "    if val == val_max:\n",
    "        k = key\n",
    "\n",
    "print(\"Predicted answer is: \", k)\n",
    "print(\"Probability of certainty was: \", pred_results[0][val_max])"
   ]
  },
  {
   "cell_type": "markdown",
   "id": "5b3cefa2",
   "metadata": {},
   "source": [
    "# Writing our own dialogs & questions(stories)"
   ]
  },
  {
   "cell_type": "code",
   "execution_count": 64,
   "id": "6f4c62c9",
   "metadata": {},
   "outputs": [
    {
     "data": {
      "text/plain": [
       "{'.',\n",
       " '?',\n",
       " 'Daniel',\n",
       " 'Is',\n",
       " 'John',\n",
       " 'Mary',\n",
       " 'Sandra',\n",
       " 'apple',\n",
       " 'back',\n",
       " 'bathroom',\n",
       " 'bedroom',\n",
       " 'discarded',\n",
       " 'down',\n",
       " 'dropped',\n",
       " 'football',\n",
       " 'garden',\n",
       " 'got',\n",
       " 'grabbed',\n",
       " 'hallway',\n",
       " 'in',\n",
       " 'journeyed',\n",
       " 'kitchen',\n",
       " 'left',\n",
       " 'milk',\n",
       " 'moved',\n",
       " 'no',\n",
       " 'office',\n",
       " 'picked',\n",
       " 'put',\n",
       " 'the',\n",
       " 'there',\n",
       " 'to',\n",
       " 'took',\n",
       " 'travelled',\n",
       " 'up',\n",
       " 'went',\n",
       " 'yes'}"
      ]
     },
     "execution_count": 64,
     "metadata": {},
     "output_type": "execute_result"
    }
   ],
   "source": [
    "vocab"
   ]
  },
  {
   "cell_type": "code",
   "execution_count": 65,
   "id": "8ef1ed6e",
   "metadata": {},
   "outputs": [
    {
     "data": {
      "text/plain": [
       "['John',\n",
       " 'left',\n",
       " 'the',\n",
       " 'kitchen',\n",
       " '.',\n",
       " 'Sandra',\n",
       " 'dropped',\n",
       " 'the',\n",
       " 'football',\n",
       " 'in',\n",
       " 'the',\n",
       " 'garden',\n",
       " '.']"
      ]
     },
     "execution_count": 65,
     "metadata": {},
     "output_type": "execute_result"
    }
   ],
   "source": [
    "my_story = \"John left the kitchen . Sandra dropped the football in the garden .\"\n",
    "my_story.split()"
   ]
  },
  {
   "cell_type": "code",
   "execution_count": 66,
   "id": "e80a0654",
   "metadata": {},
   "outputs": [],
   "source": [
    "my_question = \"Is the football in the garden ?\""
   ]
  },
  {
   "cell_type": "code",
   "execution_count": 67,
   "id": "a1679c52",
   "metadata": {},
   "outputs": [
    {
     "data": {
      "text/plain": [
       "['Is', 'the', 'football', 'in', 'the', 'garden', '?']"
      ]
     },
     "execution_count": 67,
     "metadata": {},
     "output_type": "execute_result"
    }
   ],
   "source": [
    "my_question.split()"
   ]
  },
  {
   "cell_type": "code",
   "execution_count": 68,
   "id": "3354c4a2",
   "metadata": {},
   "outputs": [],
   "source": [
    "mydata = [(my_story.split(),my_question.split(),'yes')]"
   ]
  },
  {
   "cell_type": "code",
   "execution_count": 69,
   "id": "5a24e066",
   "metadata": {},
   "outputs": [],
   "source": [
    "my_story,my_ques,my_ans = vectorize_stories(mydata)"
   ]
  },
  {
   "cell_type": "code",
   "execution_count": 70,
   "id": "00b2a487",
   "metadata": {},
   "outputs": [
    {
     "name": "stdout",
     "output_type": "stream",
     "text": [
      "1/1 [==============================] - 0s 21ms/step\n"
     ]
    }
   ],
   "source": [
    "pred_results = model.predict(([ my_story, my_ques]))"
   ]
  },
  {
   "cell_type": "code",
   "execution_count": 71,
   "id": "f22fbd71",
   "metadata": {},
   "outputs": [
    {
     "name": "stdout",
     "output_type": "stream",
     "text": [
      "Predicted answer is:  yes\n",
      "Probability of certainty was:  0.94944924\n"
     ]
    }
   ],
   "source": [
    "\n",
    "val_max = np.argmax(pred_results[0])\n",
    "\n",
    "for key, val in tokenizer.word_index.items():\n",
    "    if val == val_max:\n",
    "        k = key\n",
    "\n",
    "print(\"Predicted answer is: \", k)\n",
    "print(\"Probability of certainty was: \", pred_results[0][val_max])"
   ]
  }
 ],
 "metadata": {
  "kernelspec": {
   "display_name": "Python 3 (ipykernel)",
   "language": "python",
   "name": "python3"
  },
  "language_info": {
   "codemirror_mode": {
    "name": "ipython",
    "version": 3
   },
   "file_extension": ".py",
   "mimetype": "text/x-python",
   "name": "python",
   "nbconvert_exporter": "python",
   "pygments_lexer": "ipython3",
   "version": "3.10.7"
  }
 },
 "nbformat": 4,
 "nbformat_minor": 5
}
